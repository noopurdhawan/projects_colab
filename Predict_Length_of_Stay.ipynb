{
 "cells": [
  {
   "cell_type": "markdown",
   "metadata": {
    "id": "XoJlS6miEL-g"
   },
   "source": [
    "## Project Description"
   ]
  },
  {
   "cell_type": "markdown",
   "metadata": {
    "id": "8-SOXZrOEgWA"
   },
   "source": [
    "The goal of this project is to create a model that predicts the length-of-stay for each patient at time of admission. The inputs to the prediction model would include features such as patient’s diagnosis category (e.g. heart disease, delivery, injury/poisoning, etc.), age, gender, marital status, and race."
   ]
  },
  {
   "cell_type": "markdown",
   "metadata": {
    "id": "4z8kJORgEwkh"
   },
   "source": [
    "## Metrics Evaluation"
   ]
  },
  {
   "cell_type": "markdown",
   "metadata": {
    "id": "w7S_jhYcE3SO"
   },
   "source": [
    "The expected outcome is to develop a model that will be better at predicting hospital LOS(Length of Stay) than the industry standards of median and average LOS. The median LOS is simply the median LOS of past admissions to a hospital. Similarly, a second commonly used metric in healthcare is the average, or mean LOS. To measure performance, we will compare the prediction model against the median and average LOS using the root-mean-square error (RMSE). The RMSE is a commonly used measure of the differences between values predicted by a model and the values observed, where a lower score implies better accuracy. For example, a perfect prediction model would have an RMSE of 0. The RMSE equation for this work is given as follows, where (n) is the number of hospital admission records, ($\\hat{y}$) the prediction LOS, and (y) is the actual LOS.\n"
   ]
  },
  {
   "cell_type": "markdown",
   "metadata": {
    "id": "1i2O4c2UG_kV"
   },
   "source": [
    "## Data Loading"
   ]
  },
  {
   "cell_type": "code",
   "execution_count": null,
   "metadata": {
    "colab": {
     "base_uri": "https://localhost:8080/",
     "height": 122
    },
    "id": "i81s8jUrkVCt",
    "outputId": "a9283098-5e5a-4220-edd5-cb928cdbefed"
   },
   "outputs": [
    {
     "name": "stdout",
     "output_type": "stream",
     "text": [
      "Go to this URL in a browser: https://accounts.google.com/o/oauth2/auth?client_id=947318989803-6bn6qk8qdgf4n4g3pfee6491hc0brc4i.apps.googleusercontent.com&redirect_uri=urn%3aietf%3awg%3aoauth%3a2.0%3aoob&response_type=code&scope=email%20https%3a%2f%2fwww.googleapis.com%2fauth%2fdocs.test%20https%3a%2f%2fwww.googleapis.com%2fauth%2fdrive%20https%3a%2f%2fwww.googleapis.com%2fauth%2fdrive.photos.readonly%20https%3a%2f%2fwww.googleapis.com%2fauth%2fpeopleapi.readonly\n",
      "\n",
      "Enter your authorization code:\n",
      "··········\n",
      "Mounted at /gdrive\n"
     ]
    }
   ],
   "source": [
    "#mounting the drive\n",
    "from google.colab import drive\n",
    "drive.mount('/gdrive')"
   ]
  },
  {
   "cell_type": "code",
   "execution_count": null,
   "metadata": {
    "id": "qG0rEhKAZ24P"
   },
   "outputs": [],
   "source": [
    "#dataframe \n",
    "import pandas as pd\n",
    "import numpy as np\n",
    "import csv\n",
    "\n",
    "#viz lib\n",
    "import matplotlib.pyplot as plt\n",
    "import seaborn as sns\n",
    "\n",
    "#model and metrics \n",
    "from sklearn.model_selection import train_test_split\n",
    "from sklearn.metrics import r2_score, mean_squared_error\n",
    "from sklearn.neighbors import KNeighborsRegressor\n",
    "from sklearn.linear_model import LinearRegression\n",
    "from sklearn.ensemble import RandomForestRegressor\n",
    "from sklearn.tree import DecisionTreeRegressor\n",
    "from sklearn.ensemble import GradientBoostingRegressor\n"
   ]
  },
  {
   "cell_type": "code",
   "execution_count": null,
   "metadata": {
    "id": "ROO9mFTOkcXK"
   },
   "outputs": [],
   "source": [
    "# Read the data into dataframe\n",
    "with open('/gdrive/My Drive/los_kensci_datascience_task.csv') as f:\n",
    "  data = pd.read_csv(f)"
   ]
  },
  {
   "cell_type": "markdown",
   "metadata": {
    "id": "mtNHWzDADtRK"
   },
   "source": [
    "## Data Exploration and Feature Engineering"
   ]
  },
  {
   "cell_type": "code",
   "execution_count": null,
   "metadata": {
    "colab": {
     "base_uri": "https://localhost:8080/",
     "height": 1000
    },
    "id": "DUkW0ng83I1j",
    "outputId": "e074ee82-9bde-472c-b269-e79d7670d960"
   },
   "outputs": [
    {
     "data": {
      "text/html": [
       "<div>\n",
       "<style scoped>\n",
       "    .dataframe tbody tr th:only-of-type {\n",
       "        vertical-align: middle;\n",
       "    }\n",
       "\n",
       "    .dataframe tbody tr th {\n",
       "        vertical-align: top;\n",
       "    }\n",
       "\n",
       "    .dataframe thead th {\n",
       "        text-align: right;\n",
       "    }\n",
       "</style>\n",
       "<table border=\"1\" class=\"dataframe\">\n",
       "  <thead>\n",
       "    <tr style=\"text-align: right;\">\n",
       "      <th></th>\n",
       "      <th>count</th>\n",
       "      <th>unique</th>\n",
       "      <th>top</th>\n",
       "      <th>freq</th>\n",
       "      <th>mean</th>\n",
       "      <th>std</th>\n",
       "      <th>min</th>\n",
       "      <th>25%</th>\n",
       "      <th>50%</th>\n",
       "      <th>75%</th>\n",
       "      <th>max</th>\n",
       "    </tr>\n",
       "  </thead>\n",
       "  <tbody>\n",
       "    <tr>\n",
       "      <th>encounterID</th>\n",
       "      <td>32000</td>\n",
       "      <td>NaN</td>\n",
       "      <td>NaN</td>\n",
       "      <td>NaN</td>\n",
       "      <td>150077</td>\n",
       "      <td>28861.2</td>\n",
       "      <td>100006</td>\n",
       "      <td>125069</td>\n",
       "      <td>150162</td>\n",
       "      <td>175065</td>\n",
       "      <td>199999</td>\n",
       "    </tr>\n",
       "    <tr>\n",
       "      <th>age</th>\n",
       "      <td>32000</td>\n",
       "      <td>NaN</td>\n",
       "      <td>NaN</td>\n",
       "      <td>NaN</td>\n",
       "      <td>61.8694</td>\n",
       "      <td>16.6388</td>\n",
       "      <td>14</td>\n",
       "      <td>51</td>\n",
       "      <td>64</td>\n",
       "      <td>75</td>\n",
       "      <td>89</td>\n",
       "    </tr>\n",
       "    <tr>\n",
       "      <th>edVisitCountPast3months</th>\n",
       "      <td>32000</td>\n",
       "      <td>NaN</td>\n",
       "      <td>NaN</td>\n",
       "      <td>NaN</td>\n",
       "      <td>0.103594</td>\n",
       "      <td>0.375322</td>\n",
       "      <td>0</td>\n",
       "      <td>0</td>\n",
       "      <td>0</td>\n",
       "      <td>0</td>\n",
       "      <td>6</td>\n",
       "    </tr>\n",
       "    <tr>\n",
       "      <th>admissionMonth</th>\n",
       "      <td>32000</td>\n",
       "      <td>NaN</td>\n",
       "      <td>NaN</td>\n",
       "      <td>NaN</td>\n",
       "      <td>6.53422</td>\n",
       "      <td>3.43751</td>\n",
       "      <td>1</td>\n",
       "      <td>4</td>\n",
       "      <td>7</td>\n",
       "      <td>9</td>\n",
       "      <td>12</td>\n",
       "    </tr>\n",
       "    <tr>\n",
       "      <th>admissionBetweenThuAndSat</th>\n",
       "      <td>32000</td>\n",
       "      <td>NaN</td>\n",
       "      <td>NaN</td>\n",
       "      <td>NaN</td>\n",
       "      <td>0.405438</td>\n",
       "      <td>0.490984</td>\n",
       "      <td>0</td>\n",
       "      <td>0</td>\n",
       "      <td>0</td>\n",
       "      <td>1</td>\n",
       "      <td>1</td>\n",
       "    </tr>\n",
       "    <tr>\n",
       "      <th>edTimeBeforeAdmission</th>\n",
       "      <td>19128</td>\n",
       "      <td>NaN</td>\n",
       "      <td>NaN</td>\n",
       "      <td>NaN</td>\n",
       "      <td>0.236457</td>\n",
       "      <td>0.26725</td>\n",
       "      <td>-28.99</td>\n",
       "      <td>0.14</td>\n",
       "      <td>0.2</td>\n",
       "      <td>0.29</td>\n",
       "      <td>2.94</td>\n",
       "    </tr>\n",
       "    <tr>\n",
       "      <th>firstTemperatureReadingInED</th>\n",
       "      <td>4675</td>\n",
       "      <td>NaN</td>\n",
       "      <td>NaN</td>\n",
       "      <td>NaN</td>\n",
       "      <td>37.0997</td>\n",
       "      <td>7.43738</td>\n",
       "      <td>0.1</td>\n",
       "      <td>35.7</td>\n",
       "      <td>36.4</td>\n",
       "      <td>37.1</td>\n",
       "      <td>101.3</td>\n",
       "    </tr>\n",
       "    <tr>\n",
       "      <th>meanLOSPast24months</th>\n",
       "      <td>6104</td>\n",
       "      <td>NaN</td>\n",
       "      <td>NaN</td>\n",
       "      <td>NaN</td>\n",
       "      <td>11.6369</td>\n",
       "      <td>11.7896</td>\n",
       "      <td>0.06</td>\n",
       "      <td>4.95</td>\n",
       "      <td>8.01</td>\n",
       "      <td>14.2</td>\n",
       "      <td>173.74</td>\n",
       "    </tr>\n",
       "    <tr>\n",
       "      <th>inpatientAdmitCountPast3months</th>\n",
       "      <td>32000</td>\n",
       "      <td>NaN</td>\n",
       "      <td>NaN</td>\n",
       "      <td>NaN</td>\n",
       "      <td>0.0109375</td>\n",
       "      <td>0.10461</td>\n",
       "      <td>0</td>\n",
       "      <td>0</td>\n",
       "      <td>0</td>\n",
       "      <td>0</td>\n",
       "      <td>2</td>\n",
       "    </tr>\n",
       "    <tr>\n",
       "      <th>meanTemperaturePast12months</th>\n",
       "      <td>687</td>\n",
       "      <td>NaN</td>\n",
       "      <td>NaN</td>\n",
       "      <td>NaN</td>\n",
       "      <td>37.375</td>\n",
       "      <td>2.58162</td>\n",
       "      <td>34.19</td>\n",
       "      <td>36.69</td>\n",
       "      <td>37.09</td>\n",
       "      <td>37.5</td>\n",
       "      <td>67.4</td>\n",
       "    </tr>\n",
       "    <tr>\n",
       "      <th>inpatientAdmitCountPast6months</th>\n",
       "      <td>32000</td>\n",
       "      <td>NaN</td>\n",
       "      <td>NaN</td>\n",
       "      <td>NaN</td>\n",
       "      <td>0.0164375</td>\n",
       "      <td>0.128862</td>\n",
       "      <td>0</td>\n",
       "      <td>0</td>\n",
       "      <td>0</td>\n",
       "      <td>0</td>\n",
       "      <td>2</td>\n",
       "    </tr>\n",
       "    <tr>\n",
       "      <th>inpatientAdmitCountPast12months</th>\n",
       "      <td>32000</td>\n",
       "      <td>NaN</td>\n",
       "      <td>NaN</td>\n",
       "      <td>NaN</td>\n",
       "      <td>0.0224062</td>\n",
       "      <td>0.153802</td>\n",
       "      <td>0</td>\n",
       "      <td>0</td>\n",
       "      <td>0</td>\n",
       "      <td>0</td>\n",
       "      <td>3</td>\n",
       "    </tr>\n",
       "    <tr>\n",
       "      <th>hospitalAdmitCountPast3months</th>\n",
       "      <td>32000</td>\n",
       "      <td>NaN</td>\n",
       "      <td>NaN</td>\n",
       "      <td>NaN</td>\n",
       "      <td>0.114531</td>\n",
       "      <td>0.389928</td>\n",
       "      <td>0</td>\n",
       "      <td>0</td>\n",
       "      <td>0</td>\n",
       "      <td>0</td>\n",
       "      <td>6</td>\n",
       "    </tr>\n",
       "    <tr>\n",
       "      <th>hospitalAdmitCountPast6months</th>\n",
       "      <td>32000</td>\n",
       "      <td>NaN</td>\n",
       "      <td>NaN</td>\n",
       "      <td>NaN</td>\n",
       "      <td>0.172469</td>\n",
       "      <td>0.547478</td>\n",
       "      <td>0</td>\n",
       "      <td>0</td>\n",
       "      <td>0</td>\n",
       "      <td>0</td>\n",
       "      <td>12</td>\n",
       "    </tr>\n",
       "    <tr>\n",
       "      <th>edVisitCountPast6months</th>\n",
       "      <td>32000</td>\n",
       "      <td>NaN</td>\n",
       "      <td>NaN</td>\n",
       "      <td>NaN</td>\n",
       "      <td>0.156031</td>\n",
       "      <td>0.529098</td>\n",
       "      <td>0</td>\n",
       "      <td>0</td>\n",
       "      <td>0</td>\n",
       "      <td>0</td>\n",
       "      <td>12</td>\n",
       "    </tr>\n",
       "    <tr>\n",
       "      <th>medianTemperaturePast12months</th>\n",
       "      <td>687</td>\n",
       "      <td>NaN</td>\n",
       "      <td>NaN</td>\n",
       "      <td>NaN</td>\n",
       "      <td>37.1264</td>\n",
       "      <td>1.34778</td>\n",
       "      <td>34.1</td>\n",
       "      <td>36.7</td>\n",
       "      <td>37.2</td>\n",
       "      <td>37.5</td>\n",
       "      <td>67.4</td>\n",
       "    </tr>\n",
       "    <tr>\n",
       "      <th>meanHeartRatePast12months</th>\n",
       "      <td>4819</td>\n",
       "      <td>NaN</td>\n",
       "      <td>NaN</td>\n",
       "      <td>NaN</td>\n",
       "      <td>84.3807</td>\n",
       "      <td>13.1203</td>\n",
       "      <td>43.48</td>\n",
       "      <td>75.325</td>\n",
       "      <td>83.91</td>\n",
       "      <td>93.37</td>\n",
       "      <td>149.93</td>\n",
       "    </tr>\n",
       "    <tr>\n",
       "      <th>isFirstTemperatureInEDLess34OrGreater38</th>\n",
       "      <td>4679</td>\n",
       "      <td>2</td>\n",
       "      <td>0</td>\n",
       "      <td>4087</td>\n",
       "      <td>NaN</td>\n",
       "      <td>NaN</td>\n",
       "      <td>NaN</td>\n",
       "      <td>NaN</td>\n",
       "      <td>NaN</td>\n",
       "      <td>NaN</td>\n",
       "      <td>NaN</td>\n",
       "    </tr>\n",
       "    <tr>\n",
       "      <th>firstHeartRateReadingInED</th>\n",
       "      <td>28015</td>\n",
       "      <td>NaN</td>\n",
       "      <td>NaN</td>\n",
       "      <td>NaN</td>\n",
       "      <td>88.6689</td>\n",
       "      <td>19.8999</td>\n",
       "      <td>1</td>\n",
       "      <td>75</td>\n",
       "      <td>87</td>\n",
       "      <td>101</td>\n",
       "      <td>201</td>\n",
       "    </tr>\n",
       "    <tr>\n",
       "      <th>hospitalAdmitCountPast12months</th>\n",
       "      <td>32000</td>\n",
       "      <td>NaN</td>\n",
       "      <td>NaN</td>\n",
       "      <td>NaN</td>\n",
       "      <td>0.245</td>\n",
       "      <td>0.771601</td>\n",
       "      <td>0</td>\n",
       "      <td>0</td>\n",
       "      <td>0</td>\n",
       "      <td>0</td>\n",
       "      <td>23</td>\n",
       "    </tr>\n",
       "    <tr>\n",
       "      <th>edVisitCountPast12months</th>\n",
       "      <td>32000</td>\n",
       "      <td>NaN</td>\n",
       "      <td>NaN</td>\n",
       "      <td>NaN</td>\n",
       "      <td>0.222594</td>\n",
       "      <td>0.751499</td>\n",
       "      <td>0</td>\n",
       "      <td>0</td>\n",
       "      <td>0</td>\n",
       "      <td>0</td>\n",
       "      <td>23</td>\n",
       "    </tr>\n",
       "    <tr>\n",
       "      <th>daysSinceLastInpatientEncounter</th>\n",
       "      <td>32000</td>\n",
       "      <td>NaN</td>\n",
       "      <td>NaN</td>\n",
       "      <td>NaN</td>\n",
       "      <td>34.1035</td>\n",
       "      <td>239.128</td>\n",
       "      <td>0</td>\n",
       "      <td>0</td>\n",
       "      <td>0</td>\n",
       "      <td>0</td>\n",
       "      <td>3894</td>\n",
       "    </tr>\n",
       "    <tr>\n",
       "      <th>meanAlbuminPast12months</th>\n",
       "      <td>3649</td>\n",
       "      <td>NaN</td>\n",
       "      <td>NaN</td>\n",
       "      <td>NaN</td>\n",
       "      <td>3.16785</td>\n",
       "      <td>0.621481</td>\n",
       "      <td>1.3</td>\n",
       "      <td>2.7</td>\n",
       "      <td>3.17</td>\n",
       "      <td>3.6</td>\n",
       "      <td>5.1</td>\n",
       "    </tr>\n",
       "    <tr>\n",
       "      <th>meanCreatininePast12months</th>\n",
       "      <td>4996</td>\n",
       "      <td>NaN</td>\n",
       "      <td>NaN</td>\n",
       "      <td>NaN</td>\n",
       "      <td>1.81506</td>\n",
       "      <td>1.92095</td>\n",
       "      <td>0.12</td>\n",
       "      <td>0.7575</td>\n",
       "      <td>1.05</td>\n",
       "      <td>1.81</td>\n",
       "      <td>14.1</td>\n",
       "    </tr>\n",
       "    <tr>\n",
       "      <th>meanGlucosePast12months</th>\n",
       "      <td>4991</td>\n",
       "      <td>NaN</td>\n",
       "      <td>NaN</td>\n",
       "      <td>NaN</td>\n",
       "      <td>134.162</td>\n",
       "      <td>41.452</td>\n",
       "      <td>57</td>\n",
       "      <td>108.45</td>\n",
       "      <td>122.6</td>\n",
       "      <td>147.93</td>\n",
       "      <td>520.71</td>\n",
       "    </tr>\n",
       "    <tr>\n",
       "      <th>meanSodiumPast12months</th>\n",
       "      <td>4996</td>\n",
       "      <td>NaN</td>\n",
       "      <td>NaN</td>\n",
       "      <td>NaN</td>\n",
       "      <td>138.429</td>\n",
       "      <td>3.42737</td>\n",
       "      <td>116.71</td>\n",
       "      <td>136.54</td>\n",
       "      <td>138.545</td>\n",
       "      <td>140.5</td>\n",
       "      <td>156.88</td>\n",
       "    </tr>\n",
       "    <tr>\n",
       "      <th>meanBilirubinPast12months</th>\n",
       "      <td>3812</td>\n",
       "      <td>NaN</td>\n",
       "      <td>NaN</td>\n",
       "      <td>NaN</td>\n",
       "      <td>1.23225</td>\n",
       "      <td>2.56463</td>\n",
       "      <td>0.08</td>\n",
       "      <td>0.35</td>\n",
       "      <td>0.55</td>\n",
       "      <td>1</td>\n",
       "      <td>51.15</td>\n",
       "    </tr>\n",
       "    <tr>\n",
       "      <th>meanWBCCountPast12months</th>\n",
       "      <td>65</td>\n",
       "      <td>NaN</td>\n",
       "      <td>NaN</td>\n",
       "      <td>NaN</td>\n",
       "      <td>7.38154</td>\n",
       "      <td>6.38979</td>\n",
       "      <td>0.1</td>\n",
       "      <td>3.6</td>\n",
       "      <td>5.5</td>\n",
       "      <td>8.15</td>\n",
       "      <td>26</td>\n",
       "    </tr>\n",
       "    <tr>\n",
       "      <th>meanSerumBicarbonatePast12months</th>\n",
       "      <td>4992</td>\n",
       "      <td>NaN</td>\n",
       "      <td>NaN</td>\n",
       "      <td>NaN</td>\n",
       "      <td>25.9377</td>\n",
       "      <td>4.13169</td>\n",
       "      <td>13</td>\n",
       "      <td>23.56</td>\n",
       "      <td>25.71</td>\n",
       "      <td>27.75</td>\n",
       "      <td>49.54</td>\n",
       "    </tr>\n",
       "    <tr>\n",
       "      <th>meanPotassiumPast12months</th>\n",
       "      <td>5002</td>\n",
       "      <td>NaN</td>\n",
       "      <td>NaN</td>\n",
       "      <td>NaN</td>\n",
       "      <td>4.16094</td>\n",
       "      <td>0.411332</td>\n",
       "      <td>2.7</td>\n",
       "      <td>3.88</td>\n",
       "      <td>4.11</td>\n",
       "      <td>4.3775</td>\n",
       "      <td>7.55</td>\n",
       "    </tr>\n",
       "    <tr>\n",
       "      <th>...</th>\n",
       "      <td>...</td>\n",
       "      <td>...</td>\n",
       "      <td>...</td>\n",
       "      <td>...</td>\n",
       "      <td>...</td>\n",
       "      <td>...</td>\n",
       "      <td>...</td>\n",
       "      <td>...</td>\n",
       "      <td>...</td>\n",
       "      <td>...</td>\n",
       "      <td>...</td>\n",
       "    </tr>\n",
       "    <tr>\n",
       "      <th>maxPaO2FiO2RatioPast12months</th>\n",
       "      <td>3721</td>\n",
       "      <td>NaN</td>\n",
       "      <td>NaN</td>\n",
       "      <td>NaN</td>\n",
       "      <td>248.211</td>\n",
       "      <td>147.257</td>\n",
       "      <td>20</td>\n",
       "      <td>127</td>\n",
       "      <td>219</td>\n",
       "      <td>364</td>\n",
       "      <td>1914</td>\n",
       "    </tr>\n",
       "    <tr>\n",
       "      <th>lastPaO2FiO2RatioPast12months</th>\n",
       "      <td>3721</td>\n",
       "      <td>NaN</td>\n",
       "      <td>NaN</td>\n",
       "      <td>NaN</td>\n",
       "      <td>125.894</td>\n",
       "      <td>84.945</td>\n",
       "      <td>0</td>\n",
       "      <td>73</td>\n",
       "      <td>103</td>\n",
       "      <td>150</td>\n",
       "      <td>606</td>\n",
       "    </tr>\n",
       "    <tr>\n",
       "      <th>sdPaO2FiO2RatioPast12months</th>\n",
       "      <td>3077</td>\n",
       "      <td>NaN</td>\n",
       "      <td>NaN</td>\n",
       "      <td>NaN</td>\n",
       "      <td>64.0295</td>\n",
       "      <td>44.112</td>\n",
       "      <td>0</td>\n",
       "      <td>31.73</td>\n",
       "      <td>53.8</td>\n",
       "      <td>87.58</td>\n",
       "      <td>375.19</td>\n",
       "    </tr>\n",
       "    <tr>\n",
       "      <th>cciWeight</th>\n",
       "      <td>31984</td>\n",
       "      <td>NaN</td>\n",
       "      <td>NaN</td>\n",
       "      <td>NaN</td>\n",
       "      <td>1.03675</td>\n",
       "      <td>0.414191</td>\n",
       "      <td>0.0342</td>\n",
       "      <td>0.9137</td>\n",
       "      <td>1.0013</td>\n",
       "      <td>1.0915</td>\n",
       "      <td>14.333</td>\n",
       "    </tr>\n",
       "    <tr>\n",
       "      <th>magnitude</th>\n",
       "      <td>19201</td>\n",
       "      <td>NaN</td>\n",
       "      <td>NaN</td>\n",
       "      <td>NaN</td>\n",
       "      <td>-622.241</td>\n",
       "      <td>1230.82</td>\n",
       "      <td>-7281.17</td>\n",
       "      <td>-799.998</td>\n",
       "      <td>-263.809</td>\n",
       "      <td>-93.9477</td>\n",
       "      <td>13507.9</td>\n",
       "    </tr>\n",
       "    <tr>\n",
       "      <th>firstSystolicBPReadingInED</th>\n",
       "      <td>27989</td>\n",
       "      <td>NaN</td>\n",
       "      <td>NaN</td>\n",
       "      <td>NaN</td>\n",
       "      <td>127.142</td>\n",
       "      <td>25.4373</td>\n",
       "      <td>10</td>\n",
       "      <td>109</td>\n",
       "      <td>125</td>\n",
       "      <td>143</td>\n",
       "      <td>280</td>\n",
       "    </tr>\n",
       "    <tr>\n",
       "      <th>firstDiastolicBPReadingInED</th>\n",
       "      <td>27986</td>\n",
       "      <td>NaN</td>\n",
       "      <td>NaN</td>\n",
       "      <td>NaN</td>\n",
       "      <td>66.5754</td>\n",
       "      <td>53.7873</td>\n",
       "      <td>1</td>\n",
       "      <td>55</td>\n",
       "      <td>65</td>\n",
       "      <td>76</td>\n",
       "      <td>6868</td>\n",
       "    </tr>\n",
       "    <tr>\n",
       "      <th>firstRespirationReadingInED</th>\n",
       "      <td>27961</td>\n",
       "      <td>NaN</td>\n",
       "      <td>NaN</td>\n",
       "      <td>NaN</td>\n",
       "      <td>18.7297</td>\n",
       "      <td>6.33155</td>\n",
       "      <td>1</td>\n",
       "      <td>14</td>\n",
       "      <td>18</td>\n",
       "      <td>22</td>\n",
       "      <td>100</td>\n",
       "    </tr>\n",
       "    <tr>\n",
       "      <th>firstArterialPressureReadingInED</th>\n",
       "      <td>27993</td>\n",
       "      <td>NaN</td>\n",
       "      <td>NaN</td>\n",
       "      <td>NaN</td>\n",
       "      <td>84.2431</td>\n",
       "      <td>18.2012</td>\n",
       "      <td>1</td>\n",
       "      <td>72</td>\n",
       "      <td>83</td>\n",
       "      <td>95</td>\n",
       "      <td>294</td>\n",
       "    </tr>\n",
       "    <tr>\n",
       "      <th>firstOxygenSaturationReadingInED</th>\n",
       "      <td>27987</td>\n",
       "      <td>NaN</td>\n",
       "      <td>NaN</td>\n",
       "      <td>NaN</td>\n",
       "      <td>97.1915</td>\n",
       "      <td>4.93278</td>\n",
       "      <td>9</td>\n",
       "      <td>96</td>\n",
       "      <td>98</td>\n",
       "      <td>100</td>\n",
       "      <td>100</td>\n",
       "    </tr>\n",
       "    <tr>\n",
       "      <th>isFirstSystolicBPInEDLess90OrGreater180</th>\n",
       "      <td>27989</td>\n",
       "      <td>2</td>\n",
       "      <td>0</td>\n",
       "      <td>25746</td>\n",
       "      <td>NaN</td>\n",
       "      <td>NaN</td>\n",
       "      <td>NaN</td>\n",
       "      <td>NaN</td>\n",
       "      <td>NaN</td>\n",
       "      <td>NaN</td>\n",
       "      <td>NaN</td>\n",
       "    </tr>\n",
       "    <tr>\n",
       "      <th>isFirstDiastolicBPInEDLess90OrGreater180</th>\n",
       "      <td>27986</td>\n",
       "      <td>2</td>\n",
       "      <td>1</td>\n",
       "      <td>25501</td>\n",
       "      <td>NaN</td>\n",
       "      <td>NaN</td>\n",
       "      <td>NaN</td>\n",
       "      <td>NaN</td>\n",
       "      <td>NaN</td>\n",
       "      <td>NaN</td>\n",
       "      <td>NaN</td>\n",
       "    </tr>\n",
       "    <tr>\n",
       "      <th>isFirstRespirationInEDLess8OrGreater24</th>\n",
       "      <td>27961</td>\n",
       "      <td>2</td>\n",
       "      <td>0</td>\n",
       "      <td>23794</td>\n",
       "      <td>NaN</td>\n",
       "      <td>NaN</td>\n",
       "      <td>NaN</td>\n",
       "      <td>NaN</td>\n",
       "      <td>NaN</td>\n",
       "      <td>NaN</td>\n",
       "      <td>NaN</td>\n",
       "    </tr>\n",
       "    <tr>\n",
       "      <th>isFirstArterialPressureInEDLess60OrGreater120</th>\n",
       "      <td>27993</td>\n",
       "      <td>2</td>\n",
       "      <td>0</td>\n",
       "      <td>25324</td>\n",
       "      <td>NaN</td>\n",
       "      <td>NaN</td>\n",
       "      <td>NaN</td>\n",
       "      <td>NaN</td>\n",
       "      <td>NaN</td>\n",
       "      <td>NaN</td>\n",
       "      <td>NaN</td>\n",
       "    </tr>\n",
       "    <tr>\n",
       "      <th>isFirstOxygenSaturationInEDLess88</th>\n",
       "      <td>27987</td>\n",
       "      <td>2</td>\n",
       "      <td>0</td>\n",
       "      <td>27403</td>\n",
       "      <td>NaN</td>\n",
       "      <td>NaN</td>\n",
       "      <td>NaN</td>\n",
       "      <td>NaN</td>\n",
       "      <td>NaN</td>\n",
       "      <td>NaN</td>\n",
       "      <td>NaN</td>\n",
       "    </tr>\n",
       "    <tr>\n",
       "      <th>issexMale</th>\n",
       "      <td>32000</td>\n",
       "      <td>NaN</td>\n",
       "      <td>NaN</td>\n",
       "      <td>NaN</td>\n",
       "      <td>0.571875</td>\n",
       "      <td>0.494815</td>\n",
       "      <td>0</td>\n",
       "      <td>0</td>\n",
       "      <td>1</td>\n",
       "      <td>1</td>\n",
       "      <td>1</td>\n",
       "    </tr>\n",
       "    <tr>\n",
       "      <th>issexFemale</th>\n",
       "      <td>32000</td>\n",
       "      <td>NaN</td>\n",
       "      <td>NaN</td>\n",
       "      <td>NaN</td>\n",
       "      <td>0.428125</td>\n",
       "      <td>0.494815</td>\n",
       "      <td>0</td>\n",
       "      <td>0</td>\n",
       "      <td>0</td>\n",
       "      <td>1</td>\n",
       "      <td>1</td>\n",
       "    </tr>\n",
       "    <tr>\n",
       "      <th>isadmitSourceEMD</th>\n",
       "      <td>32000</td>\n",
       "      <td>NaN</td>\n",
       "      <td>NaN</td>\n",
       "      <td>NaN</td>\n",
       "      <td>0.44125</td>\n",
       "      <td>0.496544</td>\n",
       "      <td>0</td>\n",
       "      <td>0</td>\n",
       "      <td>0</td>\n",
       "      <td>1</td>\n",
       "      <td>1</td>\n",
       "    </tr>\n",
       "    <tr>\n",
       "      <th>isadmitSourceMP</th>\n",
       "      <td>32000</td>\n",
       "      <td>NaN</td>\n",
       "      <td>NaN</td>\n",
       "      <td>NaN</td>\n",
       "      <td>0.192719</td>\n",
       "      <td>0.39444</td>\n",
       "      <td>0</td>\n",
       "      <td>0</td>\n",
       "      <td>0</td>\n",
       "      <td>0</td>\n",
       "      <td>1</td>\n",
       "    </tr>\n",
       "    <tr>\n",
       "      <th>isadmitSourceOther</th>\n",
       "      <td>32000</td>\n",
       "      <td>NaN</td>\n",
       "      <td>NaN</td>\n",
       "      <td>NaN</td>\n",
       "      <td>0.200531</td>\n",
       "      <td>0.400404</td>\n",
       "      <td>0</td>\n",
       "      <td>0</td>\n",
       "      <td>0</td>\n",
       "      <td>0</td>\n",
       "      <td>1</td>\n",
       "    </tr>\n",
       "    <tr>\n",
       "      <th>isadmitSourceHospTrans</th>\n",
       "      <td>32000</td>\n",
       "      <td>NaN</td>\n",
       "      <td>NaN</td>\n",
       "      <td>NaN</td>\n",
       "      <td>0.161406</td>\n",
       "      <td>0.367911</td>\n",
       "      <td>0</td>\n",
       "      <td>0</td>\n",
       "      <td>0</td>\n",
       "      <td>0</td>\n",
       "      <td>1</td>\n",
       "    </tr>\n",
       "    <tr>\n",
       "      <th>ismaritalStatusMarried</th>\n",
       "      <td>30219</td>\n",
       "      <td>2</td>\n",
       "      <td>1</td>\n",
       "      <td>15623</td>\n",
       "      <td>NaN</td>\n",
       "      <td>NaN</td>\n",
       "      <td>NaN</td>\n",
       "      <td>NaN</td>\n",
       "      <td>NaN</td>\n",
       "      <td>NaN</td>\n",
       "      <td>NaN</td>\n",
       "    </tr>\n",
       "    <tr>\n",
       "      <th>ismaritalStatusNeverMarried</th>\n",
       "      <td>30219</td>\n",
       "      <td>2</td>\n",
       "      <td>0</td>\n",
       "      <td>21807</td>\n",
       "      <td>NaN</td>\n",
       "      <td>NaN</td>\n",
       "      <td>NaN</td>\n",
       "      <td>NaN</td>\n",
       "      <td>NaN</td>\n",
       "      <td>NaN</td>\n",
       "      <td>NaN</td>\n",
       "    </tr>\n",
       "    <tr>\n",
       "      <th>ismaritalStatusWidowed</th>\n",
       "      <td>30219</td>\n",
       "      <td>2</td>\n",
       "      <td>0</td>\n",
       "      <td>26426</td>\n",
       "      <td>NaN</td>\n",
       "      <td>NaN</td>\n",
       "      <td>NaN</td>\n",
       "      <td>NaN</td>\n",
       "      <td>NaN</td>\n",
       "      <td>NaN</td>\n",
       "      <td>NaN</td>\n",
       "    </tr>\n",
       "    <tr>\n",
       "      <th>ismaritalStatusDivorced</th>\n",
       "      <td>30219</td>\n",
       "      <td>2</td>\n",
       "      <td>0</td>\n",
       "      <td>27839</td>\n",
       "      <td>NaN</td>\n",
       "      <td>NaN</td>\n",
       "      <td>NaN</td>\n",
       "      <td>NaN</td>\n",
       "      <td>NaN</td>\n",
       "      <td>NaN</td>\n",
       "      <td>NaN</td>\n",
       "    </tr>\n",
       "    <tr>\n",
       "      <th>isethnicityWhite</th>\n",
       "      <td>32000</td>\n",
       "      <td>NaN</td>\n",
       "      <td>NaN</td>\n",
       "      <td>NaN</td>\n",
       "      <td>0.705</td>\n",
       "      <td>0.45605</td>\n",
       "      <td>0</td>\n",
       "      <td>0</td>\n",
       "      <td>1</td>\n",
       "      <td>1</td>\n",
       "      <td>1</td>\n",
       "    </tr>\n",
       "    <tr>\n",
       "      <th>isethnicityBlackOrAfricanAmerican</th>\n",
       "      <td>32000</td>\n",
       "      <td>NaN</td>\n",
       "      <td>NaN</td>\n",
       "      <td>NaN</td>\n",
       "      <td>0.089625</td>\n",
       "      <td>0.285648</td>\n",
       "      <td>0</td>\n",
       "      <td>0</td>\n",
       "      <td>0</td>\n",
       "      <td>0</td>\n",
       "      <td>1</td>\n",
       "    </tr>\n",
       "    <tr>\n",
       "      <th>isethnicityHispanicOrLatino</th>\n",
       "      <td>32000</td>\n",
       "      <td>NaN</td>\n",
       "      <td>NaN</td>\n",
       "      <td>NaN</td>\n",
       "      <td>0.028375</td>\n",
       "      <td>0.166044</td>\n",
       "      <td>0</td>\n",
       "      <td>0</td>\n",
       "      <td>0</td>\n",
       "      <td>0</td>\n",
       "      <td>1</td>\n",
       "    </tr>\n",
       "    <tr>\n",
       "      <th>isethnicityAsian</th>\n",
       "      <td>32000</td>\n",
       "      <td>NaN</td>\n",
       "      <td>NaN</td>\n",
       "      <td>NaN</td>\n",
       "      <td>0.0146875</td>\n",
       "      <td>0.120301</td>\n",
       "      <td>0</td>\n",
       "      <td>0</td>\n",
       "      <td>0</td>\n",
       "      <td>0</td>\n",
       "      <td>1</td>\n",
       "    </tr>\n",
       "    <tr>\n",
       "      <th>proceduresCount</th>\n",
       "      <td>32000</td>\n",
       "      <td>NaN</td>\n",
       "      <td>NaN</td>\n",
       "      <td>NaN</td>\n",
       "      <td>4.163</td>\n",
       "      <td>3.71234</td>\n",
       "      <td>0</td>\n",
       "      <td>1</td>\n",
       "      <td>3</td>\n",
       "      <td>6</td>\n",
       "      <td>35</td>\n",
       "    </tr>\n",
       "  </tbody>\n",
       "</table>\n",
       "<p>218 rows × 11 columns</p>\n",
       "</div>"
      ],
      "text/plain": [
       "                                               count unique  ...      75%      max\n",
       "encounterID                                    32000    NaN  ...   175065   199999\n",
       "age                                            32000    NaN  ...       75       89\n",
       "edVisitCountPast3months                        32000    NaN  ...        0        6\n",
       "admissionMonth                                 32000    NaN  ...        9       12\n",
       "admissionBetweenThuAndSat                      32000    NaN  ...        1        1\n",
       "edTimeBeforeAdmission                          19128    NaN  ...     0.29     2.94\n",
       "firstTemperatureReadingInED                     4675    NaN  ...     37.1    101.3\n",
       "meanLOSPast24months                             6104    NaN  ...     14.2   173.74\n",
       "inpatientAdmitCountPast3months                 32000    NaN  ...        0        2\n",
       "meanTemperaturePast12months                      687    NaN  ...     37.5     67.4\n",
       "inpatientAdmitCountPast6months                 32000    NaN  ...        0        2\n",
       "inpatientAdmitCountPast12months                32000    NaN  ...        0        3\n",
       "hospitalAdmitCountPast3months                  32000    NaN  ...        0        6\n",
       "hospitalAdmitCountPast6months                  32000    NaN  ...        0       12\n",
       "edVisitCountPast6months                        32000    NaN  ...        0       12\n",
       "medianTemperaturePast12months                    687    NaN  ...     37.5     67.4\n",
       "meanHeartRatePast12months                       4819    NaN  ...    93.37   149.93\n",
       "isFirstTemperatureInEDLess34OrGreater38         4679      2  ...      NaN      NaN\n",
       "firstHeartRateReadingInED                      28015    NaN  ...      101      201\n",
       "hospitalAdmitCountPast12months                 32000    NaN  ...        0       23\n",
       "edVisitCountPast12months                       32000    NaN  ...        0       23\n",
       "daysSinceLastInpatientEncounter                32000    NaN  ...        0     3894\n",
       "meanAlbuminPast12months                         3649    NaN  ...      3.6      5.1\n",
       "meanCreatininePast12months                      4996    NaN  ...     1.81     14.1\n",
       "meanGlucosePast12months                         4991    NaN  ...   147.93   520.71\n",
       "meanSodiumPast12months                          4996    NaN  ...    140.5   156.88\n",
       "meanBilirubinPast12months                       3812    NaN  ...        1    51.15\n",
       "meanWBCCountPast12months                          65    NaN  ...     8.15       26\n",
       "meanSerumBicarbonatePast12months                4992    NaN  ...    27.75    49.54\n",
       "meanPotassiumPast12months                       5002    NaN  ...   4.3775     7.55\n",
       "...                                              ...    ...  ...      ...      ...\n",
       "maxPaO2FiO2RatioPast12months                    3721    NaN  ...      364     1914\n",
       "lastPaO2FiO2RatioPast12months                   3721    NaN  ...      150      606\n",
       "sdPaO2FiO2RatioPast12months                     3077    NaN  ...    87.58   375.19\n",
       "cciWeight                                      31984    NaN  ...   1.0915   14.333\n",
       "magnitude                                      19201    NaN  ... -93.9477  13507.9\n",
       "firstSystolicBPReadingInED                     27989    NaN  ...      143      280\n",
       "firstDiastolicBPReadingInED                    27986    NaN  ...       76     6868\n",
       "firstRespirationReadingInED                    27961    NaN  ...       22      100\n",
       "firstArterialPressureReadingInED               27993    NaN  ...       95      294\n",
       "firstOxygenSaturationReadingInED               27987    NaN  ...      100      100\n",
       "isFirstSystolicBPInEDLess90OrGreater180        27989      2  ...      NaN      NaN\n",
       "isFirstDiastolicBPInEDLess90OrGreater180       27986      2  ...      NaN      NaN\n",
       "isFirstRespirationInEDLess8OrGreater24         27961      2  ...      NaN      NaN\n",
       "isFirstArterialPressureInEDLess60OrGreater120  27993      2  ...      NaN      NaN\n",
       "isFirstOxygenSaturationInEDLess88              27987      2  ...      NaN      NaN\n",
       "issexMale                                      32000    NaN  ...        1        1\n",
       "issexFemale                                    32000    NaN  ...        1        1\n",
       "isadmitSourceEMD                               32000    NaN  ...        1        1\n",
       "isadmitSourceMP                                32000    NaN  ...        0        1\n",
       "isadmitSourceOther                             32000    NaN  ...        0        1\n",
       "isadmitSourceHospTrans                         32000    NaN  ...        0        1\n",
       "ismaritalStatusMarried                         30219      2  ...      NaN      NaN\n",
       "ismaritalStatusNeverMarried                    30219      2  ...      NaN      NaN\n",
       "ismaritalStatusWidowed                         30219      2  ...      NaN      NaN\n",
       "ismaritalStatusDivorced                        30219      2  ...      NaN      NaN\n",
       "isethnicityWhite                               32000    NaN  ...        1        1\n",
       "isethnicityBlackOrAfricanAmerican              32000    NaN  ...        0        1\n",
       "isethnicityHispanicOrLatino                    32000    NaN  ...        0        1\n",
       "isethnicityAsian                               32000    NaN  ...        0        1\n",
       "proceduresCount                                32000    NaN  ...        6       35\n",
       "\n",
       "[218 rows x 11 columns]"
      ]
     },
     "execution_count": 47,
     "metadata": {
      "tags": []
     },
     "output_type": "execute_result"
    }
   ],
   "source": [
    "#Description of the columns \n",
    "data.describe(include='all').T"
   ]
  },
  {
   "cell_type": "code",
   "execution_count": null,
   "metadata": {
    "id": "jfNUDnjifOU7"
   },
   "outputs": [],
   "source": [
    "data.info(verbose=1)"
   ]
  },
  {
   "cell_type": "code",
   "execution_count": null,
   "metadata": {
    "id": "CelS6F76uCao"
   },
   "outputs": [],
   "source": [
    "# Convert bool columns to int\n",
    "col_bool = list(set(data.columns)-set(data.describe().columns))\n",
    "data[col_bool] *= 1"
   ]
  },
  {
   "cell_type": "code",
   "execution_count": null,
   "metadata": {
    "colab": {
     "base_uri": "https://localhost:8080/",
     "height": 269
    },
    "id": "Jizh8JrzhNvp",
    "outputId": "c75944f0-6e66-4323-dad9-b3a5948444f0"
   },
   "outputs": [
    {
     "data": {
      "image/png": "[encoded data removed]",
      "text/plain": [
       "<Figure size 432x288 with 1 Axes>"
      ]
     },
     "metadata": {
      "tags": []
     },
     "output_type": "display_data"
    }
   ],
   "source": [
    "# missing values \n",
    "missing = data.isna().sum().sort_values(ascending=False)\n",
    "sns.barplot(missing[:15],missing[:15].index)\n",
    "plt.show()"
   ]
  },
  {
   "cell_type": "code",
   "execution_count": null,
   "metadata": {
    "id": "_0jNc5weinU4"
   },
   "outputs": [],
   "source": [
    "#remove missing values\n",
    "#missing_df = missing.reset_index().rename(columns={\"index\": \"col_name\", 0: \"missing_count_values\"})\n",
    "# df = data[(list(missing_df[missing_df.missing_count_values < missing_df.missing_count_values.mean()]['col_name']))]\n"
   ]
  },
  {
   "cell_type": "code",
   "execution_count": null,
   "metadata": {
    "id": "w-ZNamdo4Y8x"
   },
   "outputs": [],
   "source": [
    "df = data.copy()"
   ]
  },
  {
   "cell_type": "code",
   "execution_count": null,
   "metadata": {
    "id": "HEIEFNbRnaIa"
   },
   "outputs": [],
   "source": [
    "# Drop Length Of Stay < 0 \n",
    "df = df[df['actualLOS'] > 0]"
   ]
  },
  {
   "cell_type": "code",
   "execution_count": null,
   "metadata": {
    "colab": {
     "base_uri": "https://localhost:8080/",
     "height": 170
    },
    "id": "GLg2-rZUoorf",
    "outputId": "1cf932c6-5bfd-40bd-8c59-4ebdc70360ad"
   },
   "outputs": [
    {
     "data": {
      "text/plain": [
       "count    31984.000000\n",
       "mean         3.358689\n",
       "std          3.457656\n",
       "min          0.010000\n",
       "25%          1.180000\n",
       "50%          2.070000\n",
       "75%          3.970000\n",
       "max         19.960000\n",
       "Name: actualLOS, dtype: float64"
      ]
     },
     "execution_count": 54,
     "metadata": {
      "tags": []
     },
     "output_type": "execute_result"
    }
   ],
   "source": [
    "df['actualLOS'].describe()"
   ]
  },
  {
   "cell_type": "code",
   "execution_count": null,
   "metadata": {
    "colab": {
     "base_uri": "https://localhost:8080/",
     "height": 295
    },
    "id": "qVGFZ-aqprrR",
    "outputId": "036371ed-a730-4f47-f6ae-03e604873580"
   },
   "outputs": [
    {
     "data": {
      "image/png": "[encoded data removed]",
      "text/plain": [
       "<Figure size 432x288 with 1 Axes>"
      ]
     },
     "metadata": {
      "tags": []
     },
     "output_type": "display_data"
    }
   ],
   "source": [
    "plt.hist(df['actualLOS'], bins=20, color = '#55a868')\n",
    "plt.xlim(0, 50)\n",
    "plt.title('Distribution of LOS')\n",
    "plt.ylabel('Count')\n",
    "plt.xlabel('Length-of-Stay (days)')\n",
    "plt.tick_params(top=False, right=False) \n",
    "plt.show();"
   ]
  },
  {
   "cell_type": "code",
   "execution_count": null,
   "metadata": {
    "colab": {
     "base_uri": "https://localhost:8080/",
     "height": 295
    },
    "id": "rOPMNaGNr_MX",
    "outputId": "29bb2328-c2bc-4ee8-9ace-b7b83c338c0f"
   },
   "outputs": [
    {
     "data": {
      "image/png": "[encoded data removed]",
      "text/plain": [
       "<Figure size 432x288 with 1 Axes>"
      ]
     },
     "metadata": {
      "tags": []
     },
     "output_type": "display_data"
    }
   ],
   "source": [
    "plt.hist(df['age'], bins=20, color = '#55a868')\n",
    "plt.xlim(0, 50)\n",
    "plt.title('Distribution of Age')\n",
    "plt.ylabel('Count')\n",
    "plt.xlabel('Age')\n",
    "plt.tick_params(top=False, right=False) \n",
    "plt.show();"
   ]
  },
  {
   "cell_type": "code",
   "execution_count": null,
   "metadata": {
    "id": "hGR9q0mGwO6d"
   },
   "outputs": [],
   "source": [
    "def plot_los_groupby(variable, size):\n",
    "    ''' \n",
    "    Plot Median LOS by df categorical series name \n",
    "    '''\n",
    "    results = df[[variable,'actualLOS']].groupby(variable).median().reset_index()\n",
    "    values = list(results['actualLOS'].values)\n",
    "    labels = list(results[variable].values)\n",
    "\n",
    "    fig, ax = plt.subplots(figsize=size)\n",
    "    ind = range(len(results))\n",
    "    ax.barh(ind, values, align='center', height=0.6, color = '#55a868', alpha=0.8)\n",
    "    ax.set_yticks(ind)\n",
    "    ax.set_yticklabels(labels)\n",
    "    ax.set_xlabel('Median Length of Stay (days)')\n",
    "    ax.tick_params(left=False, top=False, right=False) \n",
    "    ax.set_title('Comparison of {} labels'.format(variable))\n",
    "    \n",
    "    plt.tight_layout()\n",
    "    plt.show();"
   ]
  },
  {
   "cell_type": "code",
   "execution_count": null,
   "metadata": {
    "colab": {
     "base_uri": "https://localhost:8080/",
     "height": 297
    },
    "id": "NWTqtW16wvq6",
    "outputId": "2ca1d1bf-51d0-4b66-858d-76180c316eeb"
   },
   "outputs": [
    {
     "data": {
      "image/png": "[encoded data removed]",
      "text/plain": [
       "<Figure size 504x288 with 1 Axes>"
      ]
     },
     "metadata": {
      "tags": []
     },
     "output_type": "display_data"
    }
   ],
   "source": [
    "plot_los_groupby('maritalStatus',(7,4))"
   ]
  },
  {
   "cell_type": "code",
   "execution_count": null,
   "metadata": {
    "colab": {
     "base_uri": "https://localhost:8080/",
     "height": 297
    },
    "id": "FxFgPdJW2gS1",
    "outputId": "03984989-86d4-4b33-f9f1-984eebd6f14d"
   },
   "outputs": [
    {
     "data": {
      "image/png": "[encoded data removed]",
      "text/plain": [
       "<Figure size 504x288 with 1 Axes>"
      ]
     },
     "metadata": {
      "tags": []
     },
     "output_type": "display_data"
    }
   ],
   "source": [
    "plot_los_groupby('admissionMonth' ,(7,4))"
   ]
  },
  {
   "cell_type": "code",
   "execution_count": null,
   "metadata": {
    "colab": {
     "base_uri": "https://localhost:8080/",
     "height": 765
    },
    "id": "yFjgIWyYyIc0",
    "outputId": "1a5556d5-e13b-450f-86ae-10a520d65727"
   },
   "outputs": [
    {
     "data": {
      "image/png": "[encoded data removed]",
      "text/plain": [
       "<Figure size 504x756 with 1 Axes>"
      ]
     },
     "metadata": {
      "tags": []
     },
     "output_type": "display_data"
    }
   ],
   "source": [
    "plot_los_groupby('age',(7,10.5))"
   ]
  },
  {
   "cell_type": "code",
   "execution_count": null,
   "metadata": {
    "colab": {
     "base_uri": "https://localhost:8080/",
     "height": 204
    },
    "id": "O0rDP0Uyutq9",
    "outputId": "65c1deb6-eba0-446d-c68a-1ccd414e061c"
   },
   "outputs": [
    {
     "name": "stdout",
     "output_type": "stream",
     "text": [
      "---Gender--\n",
      "No of male: 18300 \n",
      "No of Female: 13700\n",
      "\n",
      "\n",
      "---Ethnicity---\n",
      "\n",
      "No of Whites : 22560\n",
      "No of BlackOrAfricanAmerican: 2868\n",
      "No of HispanicOrLatino: 908\n",
      "No of Asians: 470\n"
     ]
    }
   ],
   "source": [
    "# Gender \n",
    "print('---Gender--')\n",
    "print('No of male: {} '.format(data[data.issexMale==1].shape[0]))\n",
    "print('No of Female: {}'.format(data[data.issexFemale==1].shape[0]))\n",
    "\n",
    "#Ethnicity\n",
    "print('\\n\\n---Ethnicity---\\n')\n",
    "print ('No of Whites : {}'.format(data[data.isethnicityWhite == 1].shape[0]))\n",
    "print ('No of BlackOrAfricanAmerican: {}'.format(data[data.isethnicityBlackOrAfricanAmerican ==1].shape[0]))\n",
    "print ('No of HispanicOrLatino: {}'.format(data[data.isethnicityHispanicOrLatino==1].shape[0]))\n",
    "print ('No of Asians: {}'.format(data[data.isethnicityAsian ==1].shape[0]))\n"
   ]
  },
  {
   "cell_type": "code",
   "execution_count": null,
   "metadata": {
    "id": "J7erklJM0ZbD"
   },
   "outputs": [],
   "source": [
    "# Fill missing values\n",
    "df[['isFirstRespirationInEDLess8OrGreater24',      \n",
    "'isFirstDiastolicBPInEDLess90OrGreater180',\n",
    "'isFirstOxygenSaturationInEDLess88',\n",
    "'isFirstSystolicBPInEDLess90OrGreater180',\n",
    "'isFirstArterialPressureInEDLess60OrGreater120',\n",
    "'isFirstHeartRateInEDLess60OrGreater110',\n",
    "'ismaritalStatusDivorced',\n",
    "'ismaritalStatusMarried',\n",
    "'ismaritalStatusNeverMarried',\n",
    "'ismaritalStatusWidowed'\n",
    "]] = df[['isFirstRespirationInEDLess8OrGreater24',      \n",
    "'isFirstDiastolicBPInEDLess90OrGreater180',\n",
    "'isFirstOxygenSaturationInEDLess88',\n",
    "'isFirstSystolicBPInEDLess90OrGreater180',\n",
    "'isFirstArterialPressureInEDLess60OrGreater120',\n",
    "'isFirstHeartRateInEDLess60OrGreater110',\n",
    "'ismaritalStatusDivorced',\n",
    "'ismaritalStatusMarried',\n",
    "'ismaritalStatusNeverMarried',\n",
    "'ismaritalStatusWidowed'\n",
    "]].fillna(value=0)\n",
    "\n",
    "df[['bmi',                                      \n",
    "'firstRespirationReadingInED',                       \n",
    "'firstDiastolicBPReadingInED' ,                    \n",
    "'firstOxygenSaturationReadingInED',                  \n",
    "'firstSystolicBPReadingInED',                        \n",
    "'firstArterialPressureReadingInED',               \n",
    "'firstHeartRateReadingInED']] = df[['bmi',                                      \n",
    "'firstRespirationReadingInED',                       \n",
    "'firstDiastolicBPReadingInED' ,                    \n",
    "'firstOxygenSaturationReadingInED',                  \n",
    "'firstSystolicBPReadingInED',                        \n",
    "'firstArterialPressureReadingInED',               \n",
    "'firstHeartRateReadingInED']].fillna(value=0.0)\n",
    "df[\"maritalStatus\"].fillna('unknown(default)', inplace = True)\n",
    "df.fillna(value=0.0,inplace=True)\n",
    " "
   ]
  },
  {
   "cell_type": "code",
   "execution_count": null,
   "metadata": {
    "colab": {
     "base_uri": "https://localhost:8080/",
     "height": 1000
    },
    "id": "MORlWw_r9BQV",
    "outputId": "82d66edc-2e4c-42ba-9687-155aa46877f5",
    "scrolled": true
   },
   "outputs": [
    {
     "name": "stdout",
     "output_type": "stream",
     "text": [
      "<class 'pandas.core.frame.DataFrame'>\n",
      "Int64Index: 31984 entries, 0 to 31999\n",
      "Data columns (total 218 columns):\n",
      "encounterID                                      int64\n",
      "age                                              int64\n",
      "edVisitCountPast3months                          int64\n",
      "admissionMonth                                   int64\n",
      "admissionBetweenThuAndSat                        int64\n",
      "edTimeBeforeAdmission                            float64\n",
      "firstTemperatureReadingInED                      float64\n",
      "meanLOSPast24months                              float64\n",
      "inpatientAdmitCountPast3months                   int64\n",
      "meanTemperaturePast12months                      float64\n",
      "inpatientAdmitCountPast6months                   int64\n",
      "inpatientAdmitCountPast12months                  int64\n",
      "hospitalAdmitCountPast3months                    int64\n",
      "hospitalAdmitCountPast6months                    int64\n",
      "edVisitCountPast6months                          int64\n",
      "medianTemperaturePast12months                    float64\n",
      "meanHeartRatePast12months                        float64\n",
      "isFirstTemperatureInEDLess34OrGreater38          float64\n",
      "firstHeartRateReadingInED                        float64\n",
      "hospitalAdmitCountPast12months                   int64\n",
      "edVisitCountPast12months                         int64\n",
      "daysSinceLastInpatientEncounter                  int64\n",
      "meanAlbuminPast12months                          float64\n",
      "meanCreatininePast12months                       float64\n",
      "meanGlucosePast12months                          float64\n",
      "meanSodiumPast12months                           float64\n",
      "meanBilirubinPast12months                        float64\n",
      "meanWBCCountPast12months                         float64\n",
      "meanSerumBicarbonatePast12months                 float64\n",
      "meanPotassiumPast12months                        float64\n",
      "medianHeartRatePast12months                      float64\n",
      "minHeartRatePast12months                         float64\n",
      "maxHeartRatePast12months                         float64\n",
      "lastHeartRatePast12months                        float64\n",
      "minTemperaturePast12months                       float64\n",
      "maxTemperaturePast12months                       float64\n",
      "lastTemperaturePast12months                      float64\n",
      "medianLOSPast24months                            float64\n",
      "minLOSPast24months                               float64\n",
      "maxLOSPast24months                               float64\n",
      "modeLOSPast24months                              float64\n",
      "isFirstHeartRateInEDLess60OrGreater110           int64\n",
      "medianAlbuminPast12months                        float64\n",
      "minAlbuminPast12months                           float64\n",
      "maxAlbuminPast12months                           float64\n",
      "lastAlbuminPast12months                          float64\n",
      "medianBilirubinPast12months                      float64\n",
      "minBilirubinPast12months                         float64\n",
      "maxBilirubinPast12months                         float64\n",
      "lastBilirubinPast12months                        float64\n",
      "medianCreatininePast12months                     float64\n",
      "minCreatininePast12months                        float64\n",
      "maxCreatininePast12months                        float64\n",
      "lastCreatininePast12months                       float64\n",
      "medianGlucosePast12months                        float64\n",
      "minGlucosePast12months                           float64\n",
      "maxGlucosePast12months                           float64\n",
      "lastGlucosePast12months                          float64\n",
      "medianPotassiumPast12months                      float64\n",
      "minPotassiumPast12months                         float64\n",
      "maxPotassiumPast12months                         float64\n",
      "lastPotassiumPast12months                        float64\n",
      "medianSodiumPast12months                         float64\n",
      "minSodiumPast12months                            float64\n",
      "maxSodiumPast12months                            float64\n",
      "lastSodiumPast12months                           float64\n",
      "medianSerumBicarbonatePast12months               float64\n",
      "minSerumBicarbonatePast12months                  float64\n",
      "maxSerumBicarbonatePast12months                  float64\n",
      "lastSerumBicarbonatePast12months                 float64\n",
      "meanHematocritPast12months                       float64\n",
      "medianHematocritPast12months                     float64\n",
      "minHematocritPast12months                        float64\n",
      "maxHematocritPast12months                        float64\n",
      "lastHematocritPast12months                       float64\n",
      "meanAlkalinePhosphatasePast12months              float64\n",
      "medianAlkalinePhosphatasePast12months            float64\n",
      "minAlkalinePhosphatasePast12months               float64\n",
      "maxAlkalinePhosphatasePast12months               float64\n",
      "lastAlkalinePhosphatasePast12months              float64\n",
      "meanHbA1cPast12months                            float64\n",
      "medianHbA1cPast12months                          float64\n",
      "minHbA1cPast12months                             float64\n",
      "maxHbA1cPast12months                             float64\n",
      "lastHbA1cPast12months                            float64\n",
      "meanNeutrophilsPast12months                      float64\n",
      "medianNeutrophilsPast12months                    float64\n",
      "minNeutrophilsPast12months                       float64\n",
      "maxNeutrophilsPast12months                       float64\n",
      "lastNeutrophilsPast12months                      float64\n",
      "meanASTPast12months                              float64\n",
      "medianASTPast12months                            float64\n",
      "minASTPast12months                               float64\n",
      "maxASTPast12months                               float64\n",
      "lastASTPast12months                              float64\n",
      "meanALTPast12months                              float64\n",
      "medianALTPast12months                            float64\n",
      "minALTPast12months                               float64\n",
      "maxALTPast12months                               float64\n",
      "lastALTPast12months                              float64\n",
      "meanLactatePast12months                          float64\n",
      "medianLactatePast12months                        float64\n",
      "minLactatePast12months                           float64\n",
      "maxLactatePast12months                           float64\n",
      "lastLactatePast12months                          float64\n",
      "meanINRPast12months                              float64\n",
      "medianINRPast12months                            float64\n",
      "minINRPast12months                               float64\n",
      "maxINRPast12months                               float64\n",
      "lastINRPast12months                              float64\n",
      "maxTroponinIHSPast12months                       float64\n",
      "lastTroponinIHSPast12months                      float64\n",
      "actualLOS                                        float64\n",
      "maritalStatus                                    object\n",
      "primaryDiagnosisChronicCondition                 float64\n",
      "chronicConditionCount                            int64\n",
      "isChronicConditionDementia                       int64\n",
      "isChronicConditionAcuteHypothyroidism            int64\n",
      "isChronicConditionAcuteMyocardialInfarction      int64\n",
      "isChronicConditionAlzheimersDisease              int64\n",
      "isChronicConditionAnemia                         int64\n",
      "isChronicConditionAsthma                         int64\n",
      "isChronicConditionAFib                           int64\n",
      "isChronicConditionCataract                       int64\n",
      "isChronicConditionCOPD                           int64\n",
      "isChronicConditionDepression                     int64\n",
      "isChronicConditionDiabetes                       int64\n",
      "isChronicConditionHeartFailure                   int64\n",
      "isChronicConditionHyperlipidemia                 int64\n",
      "isChronicConditionHypertension                   int64\n",
      "isChronicConditionIschemicHeartDisease           int64\n",
      "isChronicConditionOsteoporosis                   int64\n",
      "isChronicConditionBreastCancer                   int64\n",
      "isChronicConditionColorectalCancer               int64\n",
      "isChronicConditionProstateCancer                 int64\n",
      "isChronicConditionLungCancer                     int64\n",
      "isChronicConditionEndometrialCancer              int64\n",
      "sdAlbuminPast12months                            float64\n",
      "sdSerumBicarbonatePast12months                   float64\n",
      "sdSodiumPast12months                             float64\n",
      "sdPotassiumPast12months                          float64\n",
      "sdBilirubinPast12months                          float64\n",
      "sdCreatininePast12months                         float64\n",
      "sdGlucosePast12months                            float64\n",
      "sdHematocritPast12months                         float64\n",
      "sdNeutrophilsPast12months                        float64\n",
      "sdAlkalinePhosphatasePast12months                float64\n",
      "sdASTPast12months                                float64\n",
      "sdALTPast12months                                float64\n",
      "sdLactatePast12months                            float64\n",
      "sdINRPast12months                                float64\n",
      "charlsonComorbidityIndex                         float64\n",
      "bmi                                              float64\n",
      "adjustedLOS                                      float64\n",
      "meanSystolicBPPast12months                       float64\n",
      "medianSystolicBPPast12months                     float64\n",
      "minSystolicBPPast12months                        float64\n",
      "maxSystolicBPPast12months                        float64\n",
      "lastSystolicBPPast12months                       float64\n",
      "sdSystolicBPPast12months                         float64\n",
      "meanDiastolicBPPast12months                      float64\n",
      "medianDiastolicBPPast12months                    float64\n",
      "minDiastolicBPPast12months                       float64\n",
      "maxDiastolicBPPast12months                       float64\n",
      "lastDiastolicBPPast12months                      float64\n",
      "sdDiastolicBPPast12months                        float64\n",
      "meanRespirationPast12months                      float64\n",
      "medianRespirationPast12months                    float64\n",
      "minRespirationPast12months                       float64\n",
      "maxRespirationPast12months                       float64\n",
      "lastRespirationPast12months                      float64\n",
      "sdRespirationPast12months                        float64\n",
      "meanArterialPressurePast12months                 float64\n",
      "medianArterialPressurePast12months               float64\n",
      "minArterialPressurePast12months                  float64\n",
      "maxArterialPressurePast12months                  float64\n",
      "lastArterialPressurePast12months                 float64\n",
      "sdArterialPressurePast12months                   float64\n",
      "meanOxygenSaturationPast12months                 float64\n",
      "medianOxygenSaturationPast12months               float64\n",
      "minOxygenSaturationPast12months                  float64\n",
      "maxOxygenSaturationPast12months                  float64\n",
      "lastOxygenSaturationPast12months                 float64\n",
      "sdOxygenSaturationPast12months                   float64\n",
      "sdHeartRatePast12months                          float64\n",
      "sdTemperaturePast12months                        float64\n",
      "medianPaO2FiO2RatioPast12months                  float64\n",
      "minPaO2FiO2RatioPast12months                     float64\n",
      "maxPaO2FiO2RatioPast12months                     float64\n",
      "lastPaO2FiO2RatioPast12months                    float64\n",
      "sdPaO2FiO2RatioPast12months                      float64\n",
      "cciWeight                                        float64\n",
      "magnitude                                        float64\n",
      "firstSystolicBPReadingInED                       float64\n",
      "firstDiastolicBPReadingInED                      float64\n",
      "firstRespirationReadingInED                      float64\n",
      "firstArterialPressureReadingInED                 float64\n",
      "firstOxygenSaturationReadingInED                 float64\n",
      "isFirstSystolicBPInEDLess90OrGreater180          int64\n",
      "isFirstDiastolicBPInEDLess90OrGreater180         int64\n",
      "isFirstRespirationInEDLess8OrGreater24           int64\n",
      "isFirstArterialPressureInEDLess60OrGreater120    int64\n",
      "isFirstOxygenSaturationInEDLess88                int64\n",
      "issexMale                                        int64\n",
      "issexFemale                                      int64\n",
      "isadmitSourceEMD                                 int64\n",
      "isadmitSourceMP                                  int64\n",
      "isadmitSourceOther                               int64\n",
      "isadmitSourceHospTrans                           int64\n",
      "ismaritalStatusMarried                           int64\n",
      "ismaritalStatusNeverMarried                      int64\n",
      "ismaritalStatusWidowed                           int64\n",
      "ismaritalStatusDivorced                          int64\n",
      "isethnicityWhite                                 int64\n",
      "isethnicityBlackOrAfricanAmerican                int64\n",
      "isethnicityHispanicOrLatino                      int64\n",
      "isethnicityAsian                                 int64\n",
      "proceduresCount                                  float64\n",
      "dtypes: float64(161), int64(56), object(1)\n",
      "memory usage: 53.4+ MB\n"
     ]
    }
   ],
   "source": [
    "df.info(verbose=True)"
   ]
  },
  {
   "cell_type": "code",
   "execution_count": null,
   "metadata": {
    "colab": {
     "base_uri": "https://localhost:8080/",
     "height": 34
    },
    "id": "Jej2Gb7Y9eHg",
    "outputId": "0932334f-a8f7-4c79-e322-86da200bd24e"
   },
   "outputs": [
    {
     "data": {
      "text/plain": [
       "0"
      ]
     },
     "execution_count": 65,
     "metadata": {
      "tags": []
     },
     "output_type": "execute_result"
    }
   ],
   "source": [
    "#Check missing values\n",
    "df.isnull().values.sum()"
   ]
  },
  {
   "cell_type": "markdown",
   "metadata": {
    "id": "pgsyrEotBpay"
   },
   "source": [
    "## Modelling\n"
   ]
  },
  {
   "cell_type": "code",
   "execution_count": null,
   "metadata": {
    "id": "Ns4B3JzP9j8Y"
   },
   "outputs": [],
   "source": [
    "# Target Variable (Length-of-Stay)\n",
    "LOS = df['actualLOS'].values\n",
    "# Prediction Features\n",
    "features = df.drop(columns=['actualLOS','maritalStatus','encounterID','adjustedLOS'])"
   ]
  },
  {
   "cell_type": "code",
   "execution_count": null,
   "metadata": {
    "colab": {
     "base_uri": "https://localhost:8080/",
     "height": 51
    },
    "id": "qJJAnnN590CU",
    "outputId": "445a94ba-ce0b-4b35-ccee-da2b0e980528"
   },
   "outputs": [
    {
     "name": "stdout",
     "output_type": "stream",
     "text": [
      "Training set has 25587 samples.\n",
      "Testing set has 6397 samples.\n"
     ]
    }
   ],
   "source": [
    "# Spliting the data into 80(training)-20(testing)\n",
    "X_train, X_test, y_train, y_test = train_test_split(features, \n",
    "                                                    LOS, \n",
    "                                                    test_size = .20, \n",
    "                                                    random_state = 0)\n",
    "\n",
    "# Show the results of the split\n",
    "print(\"Training set has {} samples.\".format(X_train.shape[0]))\n",
    "print(\"Testing set has {} samples.\".format(X_test.shape[0]))\n"
   ]
  },
  {
   "cell_type": "code",
   "execution_count": null,
   "metadata": {
    "colab": {
     "base_uri": "https://localhost:8080/",
     "height": 85
    },
    "id": "GFRV-9wG95hJ",
    "outputId": "dc705715-4870-4f14-8f72-02600fa2dbbf"
   },
   "outputs": [
    {
     "name": "stdout",
     "output_type": "stream",
     "text": [
      "GradientBoostingRegressor done.\n",
      "LinearRegression done.\n",
      "KNeighborsRegressor done.\n",
      "RandomForestRegressor done.\n"
     ]
    }
   ],
   "source": [
    "# Regression models for comparison\n",
    "models = [\n",
    "          GradientBoostingRegressor(random_state = 0), \n",
    "          LinearRegression(),\n",
    "          KNeighborsRegressor(),\n",
    "          RandomForestRegressor(random_state = 0)]\n",
    "\n",
    "results = {}\n",
    "\n",
    "for model in models:\n",
    "    \n",
    "    # Instantiate and fit Regressor Model\n",
    "    reg_model = model\n",
    "    reg_model.fit(X_train, y_train)\n",
    "    \n",
    "    # Make predictions with model\n",
    "    y_test_preds = reg_model.predict(X_test)\n",
    "    \n",
    "    # Grab model name and store results associated with model\n",
    "    name = str(model).split(\"(\")[0]\n",
    "\n",
    "    results[name] = r2_score(y_test, y_test_preds)\n",
    "    print('{} done.'.format(name))"
   ]
  },
  {
   "cell_type": "code",
   "execution_count": null,
   "metadata": {
    "colab": {
     "base_uri": "https://localhost:8080/",
     "height": 312
    },
    "id": "gp74JdCJCdBq",
    "outputId": "94fb79bc-2eb3-4e11-a2dc-aa380c8f54c7"
   },
   "outputs": [
    {
     "data": {
      "text/plain": [
       "Text(0.5,1,'Comparison of Regression Models')"
      ]
     },
     "execution_count": 69,
     "metadata": {
      "tags": []
     },
     "output_type": "execute_result"
    },
    {
     "data": {
      "image/png": "[encoded data removed]",
      "text/plain": [
       "<Figure size 432x288 with 1 Axes>"
      ]
     },
     "metadata": {
      "tags": []
     },
     "output_type": "display_data"
    }
   ],
   "source": [
    "fig, ax = plt.subplots()\n",
    "ind = range(len(results))\n",
    "ax.barh(ind, list(results.values()), align='center', \n",
    "        color = '#55a868', alpha=0.8)\n",
    "ax.set_yticks(ind)\n",
    "ax.set_yticklabels(results.keys())\n",
    "ax.set_xlabel('R-squared score')\n",
    "ax.tick_params(left=False, top=False, right=False) \n",
    "ax.set_title('Comparison of Regression Models')\n"
   ]
  },
  {
   "cell_type": "code",
   "execution_count": null,
   "metadata": {
    "colab": {
     "base_uri": "https://localhost:8080/",
     "height": 85
    },
    "id": "bTHfQHdm-A2H",
    "outputId": "7dea1bbb-bbc6-4951-9ed6-4b1fa4b87ba3"
   },
   "outputs": [
    {
     "data": {
      "text/plain": [
       "{'GradientBoostingRegressor': 0.33616676786323707,\n",
       " 'KNeighborsRegressor': 0.16524795857749952,\n",
       " 'LinearRegression': 0.21893312202019322,\n",
       " 'RandomForestRegressor': 0.5226970222775045}"
      ]
     },
     "execution_count": 70,
     "metadata": {
      "tags": []
     },
     "output_type": "execute_result"
    }
   ],
   "source": [
    "results"
   ]
  },
  {
   "cell_type": "markdown",
   "metadata": {
    "id": "HYB87eZPAAya"
   },
   "source": [
    "The RandomForestRegressor took the win with an R2 score of ~52%."
   ]
  },
  {
   "cell_type": "code",
   "execution_count": null,
   "metadata": {
    "colab": {
     "base_uri": "https://localhost:8080/",
     "height": 34
    },
    "id": "7Zmscmy5_B5t",
    "outputId": "d8df9c9b-1bbb-46a0-cf89-1ca229db6dd0"
   },
   "outputs": [
    {
     "name": "stdout",
     "output_type": "stream",
     "text": [
      "R2 score is: 0.522697\n"
     ]
    }
   ],
   "source": [
    "reg_model = RandomForestRegressor(random_state=0)   \n",
    "reg_model.fit(X_train, y_train)\n",
    "y_test_preds = reg_model.predict(X_test)\n",
    "r2_not_refined = r2_score(y_test, y_test_preds)\n",
    "print(\"R2 score is: {:2f}\".format(r2_not_refined))\n"
   ]
  },
  {
   "cell_type": "markdown",
   "metadata": {
    "id": "5mnUt5CFDeYX"
   },
   "source": [
    "##Results"
   ]
  },
  {
   "cell_type": "markdown",
   "metadata": {
    "id": "OFUyRBs2AVhp"
   },
   "source": [
    "The most important features of the model when using the Random Forest Regressor."
   ]
  },
  {
   "cell_type": "code",
   "execution_count": null,
   "metadata": {
    "colab": {
     "base_uri": "https://localhost:8080/",
     "height": 669
    },
    "id": "YApy_vM-Amt1",
    "outputId": "efa6c552-67ca-404b-d637-e6da713d1449"
   },
   "outputs": [
    {
     "data": {
      "text/html": [
       "<div>\n",
       "<style scoped>\n",
       "    .dataframe tbody tr th:only-of-type {\n",
       "        vertical-align: middle;\n",
       "    }\n",
       "\n",
       "    .dataframe tbody tr th {\n",
       "        vertical-align: top;\n",
       "    }\n",
       "\n",
       "    .dataframe thead th {\n",
       "        text-align: right;\n",
       "    }\n",
       "</style>\n",
       "<table border=\"1\" class=\"dataframe\">\n",
       "  <thead>\n",
       "    <tr style=\"text-align: right;\">\n",
       "      <th></th>\n",
       "      <th>importance</th>\n",
       "    </tr>\n",
       "  </thead>\n",
       "  <tbody>\n",
       "    <tr>\n",
       "      <th>proceduresCount</th>\n",
       "      <td>0.234647</td>\n",
       "    </tr>\n",
       "    <tr>\n",
       "      <th>cciWeight</th>\n",
       "      <td>0.079289</td>\n",
       "    </tr>\n",
       "    <tr>\n",
       "      <th>magnitude</th>\n",
       "      <td>0.051956</td>\n",
       "    </tr>\n",
       "    <tr>\n",
       "      <th>bmi</th>\n",
       "      <td>0.042295</td>\n",
       "    </tr>\n",
       "    <tr>\n",
       "      <th>age</th>\n",
       "      <td>0.042112</td>\n",
       "    </tr>\n",
       "    <tr>\n",
       "      <th>firstHeartRateReadingInED</th>\n",
       "      <td>0.038834</td>\n",
       "    </tr>\n",
       "    <tr>\n",
       "      <th>edTimeBeforeAdmission</th>\n",
       "      <td>0.037494</td>\n",
       "    </tr>\n",
       "    <tr>\n",
       "      <th>firstRespirationReadingInED</th>\n",
       "      <td>0.035224</td>\n",
       "    </tr>\n",
       "    <tr>\n",
       "      <th>firstDiastolicBPReadingInED</th>\n",
       "      <td>0.034928</td>\n",
       "    </tr>\n",
       "    <tr>\n",
       "      <th>firstSystolicBPReadingInED</th>\n",
       "      <td>0.034341</td>\n",
       "    </tr>\n",
       "    <tr>\n",
       "      <th>firstArterialPressureReadingInED</th>\n",
       "      <td>0.030089</td>\n",
       "    </tr>\n",
       "    <tr>\n",
       "      <th>primaryDiagnosisChronicCondition</th>\n",
       "      <td>0.027535</td>\n",
       "    </tr>\n",
       "    <tr>\n",
       "      <th>admissionMonth</th>\n",
       "      <td>0.026825</td>\n",
       "    </tr>\n",
       "    <tr>\n",
       "      <th>firstOxygenSaturationReadingInED</th>\n",
       "      <td>0.025216</td>\n",
       "    </tr>\n",
       "    <tr>\n",
       "      <th>firstTemperatureReadingInED</th>\n",
       "      <td>0.021864</td>\n",
       "    </tr>\n",
       "    <tr>\n",
       "      <th>chronicConditionCount</th>\n",
       "      <td>0.020817</td>\n",
       "    </tr>\n",
       "    <tr>\n",
       "      <th>isChronicConditionIschemicHeartDisease</th>\n",
       "      <td>0.010121</td>\n",
       "    </tr>\n",
       "    <tr>\n",
       "      <th>isChronicConditionHeartFailure</th>\n",
       "      <td>0.007847</td>\n",
       "    </tr>\n",
       "    <tr>\n",
       "      <th>charlsonComorbidityIndex</th>\n",
       "      <td>0.006142</td>\n",
       "    </tr>\n",
       "    <tr>\n",
       "      <th>isChronicConditionAnemia</th>\n",
       "      <td>0.005372</td>\n",
       "    </tr>\n",
       "  </tbody>\n",
       "</table>\n",
       "</div>"
      ],
      "text/plain": [
       "                                        importance\n",
       "proceduresCount                           0.234647\n",
       "cciWeight                                 0.079289\n",
       "magnitude                                 0.051956\n",
       "bmi                                       0.042295\n",
       "age                                       0.042112\n",
       "firstHeartRateReadingInED                 0.038834\n",
       "edTimeBeforeAdmission                     0.037494\n",
       "firstRespirationReadingInED               0.035224\n",
       "firstDiastolicBPReadingInED               0.034928\n",
       "firstSystolicBPReadingInED                0.034341\n",
       "firstArterialPressureReadingInED          0.030089\n",
       "primaryDiagnosisChronicCondition          0.027535\n",
       "admissionMonth                            0.026825\n",
       "firstOxygenSaturationReadingInED          0.025216\n",
       "firstTemperatureReadingInED               0.021864\n",
       "chronicConditionCount                     0.020817\n",
       "isChronicConditionIschemicHeartDisease    0.010121\n",
       "isChronicConditionHeartFailure            0.007847\n",
       "charlsonComorbidityIndex                  0.006142\n",
       "isChronicConditionAnemia                  0.005372"
      ]
     },
     "execution_count": 72,
     "metadata": {
      "tags": []
     },
     "output_type": "execute_result"
    }
   ],
   "source": [
    "feature_imp = pd.DataFrame(reg_model.feature_importances_,\n",
    "                                   index = X_train.columns,\n",
    "                                   columns=['importance']).sort_values('importance', ascending=False)\n",
    "\n",
    "feature_imp.head(20)"
   ]
  },
  {
   "cell_type": "code",
   "execution_count": null,
   "metadata": {
    "colab": {
     "base_uri": "https://localhost:8080/",
     "height": 187
    },
    "id": "mlt4-yCaDOIR",
    "outputId": "bb9ed39a-78bc-4950-c11a-ea9120707afa"
   },
   "outputs": [
    {
     "data": {
      "text/plain": [
       "['proceduresCount',\n",
       " 'cciWeight',\n",
       " 'magnitude',\n",
       " 'bmi',\n",
       " 'age',\n",
       " 'firstHeartRateReadingInED',\n",
       " 'edTimeBeforeAdmission',\n",
       " 'firstRespirationReadingInED',\n",
       " 'firstDiastolicBPReadingInED',\n",
       " 'firstSystolicBPReadingInED']"
      ]
     },
     "execution_count": 73,
     "metadata": {
      "tags": []
     },
     "output_type": "execute_result"
    }
   ],
   "source": [
    "feature_imp.index[0:10].tolist()"
   ]
  },
  {
   "cell_type": "code",
   "execution_count": null,
   "metadata": {
    "colab": {
     "base_uri": "https://localhost:8080/",
     "height": 361
    },
    "id": "aZiH3Sf7DYUI",
    "outputId": "14bfdd66-d9cf-479b-c3fe-69c0691fdcee"
   },
   "outputs": [
    {
     "data": {
      "image/png": "[encoded data removed]",
      "text/plain": [
       "<Figure size 504x360 with 1 Axes>"
      ]
     },
     "metadata": {
      "tags": []
     },
     "output_type": "display_data"
    }
   ],
   "source": [
    "# Plot feature importance\n",
    "fig, ax = plt.subplots(figsize=(7, 5))\n",
    "ind = range(0,10)\n",
    "ax.barh(ind, feature_imp['importance'].values[0:10], \n",
    "        align='center', color='#c44e52', alpha=0.9)\n",
    "ax.set_yticks(ind)\n",
    "ax.set_yticklabels(feature_imp.index[0:10].tolist())\n",
    "ax.tick_params(left=False, top=False, right=False) \n",
    "ax.set_title(\"Top 10 features for predicting LOS\")\n",
    "ax.set_xlabel('Feature Importance Coefficient \\n(RandomForestRegressor)')\n",
    "plt.gca().invert_yaxis()"
   ]
  },
  {
   "cell_type": "code",
   "execution_count": null,
   "metadata": {
    "id": "n9-qFCy1GOs4"
   },
   "outputs": [],
   "source": [
    "actual_mean_los = df['actualLOS'].mean() \n",
    "actual_median_los = df['actualLOS'].median()     "
   ]
  },
  {
   "cell_type": "code",
   "execution_count": null,
   "metadata": {
    "colab": {
     "base_uri": "https://localhost:8080/",
     "height": 458
    },
    "id": "0RZlAtEvDeE5",
    "outputId": "a0572232-ace8-4a92-dbae-49cf2cad07b2"
   },
   "outputs": [
    {
     "data": {
      "image/png": "[encoded data removed]",
      "text/plain": [
       "<Figure size 1152x504 with 1 Axes>"
      ]
     },
     "metadata": {
      "tags": []
     },
     "output_type": "display_data"
    }
   ],
   "source": [
    "fig, ax = plt.subplots(figsize=(16, 7))\n",
    "\n",
    "ind = np.arange(0,30)\n",
    "pad = 0.15\n",
    "width = 0.35\n",
    "set_actual = ax.bar(pad+ind, y_test[:30], width, color='#4c72b0', alpha=0.8)\n",
    "set_predict = ax.bar(pad+ind+width, y_test_preds[:30], width, color='#dd8452')\n",
    "\n",
    "ax.set_ylabel('Length of Stay (days)')\n",
    "ax.set_xlabel('Admission Event')\n",
    "ax.set_title('Prediction Model for Hospital Length of Stay (LOS)')\n",
    "ax.text(0, 4, 'Average LOS', fontdict=None, withdash=False, color='red', alpha=0.8)\n",
    "ax.text(0, 2.2, 'Median LOS', fontdict=None, withdash=False, color='blue')\n",
    "ax.set_xticks(pad + ind + width)\n",
    "ax.set_ylim(0, 30)\n",
    "ax.set_xticklabels(list(range(30)))\n",
    "ax.axhline(y=actual_median_los, xmin=0, xmax=20, ls='--', color='blue')\n",
    "ax.axhline(y=actual_mean_los, xmin=0, xmax=20, ls='--', color='red', alpha=0.8)\n",
    "ax.legend( (set_actual, set_predict), ('Actual LOS', 'Predicted LOS'), \n",
    "          loc='upper left')\n",
    "ax.tick_params(bottom=False, top=False, right=False)"
   ]
  },
  {
   "cell_type": "markdown",
   "metadata": {
    "id": "qp6p51VxIliv"
   },
   "source": [
    "While the RMSE trend is promising, I also wanted to evaluate the model from a few other perspectives. The following figure takes the first 30 admissions from the test set and directly compares the actual, predicted (gradient boosting model), average, and median LOS values. This gives a more convoluted picture of the prediction model; in some admissions, it predicts well but not as well in others."
   ]
  },
  {
   "cell_type": "code",
   "execution_count": null,
   "metadata": {
    "colab": {
     "base_uri": "https://localhost:8080/",
     "height": 119
    },
    "id": "UNoyFVHoDvro",
    "outputId": "c68cb69e-70d6-4146-ede4-d468c7f33264"
   },
   "outputs": [
    {
     "name": "stdout",
     "output_type": "stream",
     "text": [
      "Prediction Model days 1.42132374551\n",
      "Median Model days 2.10215882445\n",
      "Average Model days 2.3911164325\n",
      "Prediction Model RMS 0.0296867744508\n",
      "Median Model RMS 0.0458386802961\n",
      "Average Model RMS 0.0429703242187\n"
     ]
    }
   ],
   "source": [
    "ml_count, md_count, avg_count  = 0, 0, 0\n",
    "ml_days, md_days, avg_days  = 0, 0, 0\n",
    "ml_days_rms, md_days_rms, avg_days_rms  = 0, 0, 0\n",
    "\n",
    "for i in range(y_test_preds.shape[0]):\n",
    "    ml_model = abs(y_test_preds[i] - y_test[i])\n",
    "    median_model = abs(actual_median_los - y_test[i])\n",
    "    average_model = abs(actual_mean_los - y_test[i])\n",
    "    \n",
    "    ml_days += ml_model\n",
    "    md_days += median_model\n",
    "    avg_days += average_model\n",
    "    \n",
    "    ml_model_rms = (y_test_preds[i] - y_test[i])**2\n",
    "    median_model_rms = (actual_median_los - y_test[i])**2\n",
    "    average_model_rms = (actual_mean_los - y_test[i])**2\n",
    "    \n",
    "    ml_days_rms += ml_model_rms\n",
    "    md_days_rms += median_model_rms\n",
    "    avg_days_rms += average_model_rms\n",
    "\n",
    "print(\"Prediction Model days {}\".format(ml_days/y_test_preds.shape[0]))\n",
    "print(\"Median Model days {}\".format(md_days/y_test_preds.shape[0]))\n",
    "print(\"Average Model days {}\".format(avg_days/y_test_preds.shape[0]))\n",
    "\n",
    "print(\"Prediction Model RMS {}\".format((ml_days_rms**0.5)/y_test_preds.shape[0]))\n",
    "print(\"Median Model RMS {}\".format((md_days_rms**0.5)/y_test_preds.shape[0]))\n",
    "print(\"Average Model RMS {}\".format((avg_days_rms**0.5)/y_test_preds.shape[0]))"
   ]
  },
  {
   "cell_type": "code",
   "execution_count": null,
   "metadata": {
    "colab": {
     "base_uri": "https://localhost:8080/",
     "height": 295
    },
    "id": "8G5SSyg6HQiz",
    "outputId": "93d6ee43-15c0-47e8-dde3-83ae542ae8e8"
   },
   "outputs": [
    {
     "data": {
      "image/png": "[encoded data removed]",
      "text/plain": [
       "<Figure size 432x288 with 1 Axes>"
      ]
     },
     "metadata": {
      "tags": []
     },
     "output_type": "display_data"
    }
   ],
   "source": [
    "#RMSE plot for writeup\n",
    "data = pd.DataFrame({'RMSE': [(ml_days_rms**0.5)/y_test_preds.shape[0], \n",
    "                             (avg_days_rms**0.5)/y_test_preds.shape[0],\n",
    "                             (md_days_rms**0.5)/y_test_preds.shape[0]],\n",
    "                     'LOS Model Type': ['Random Forest ', 'Average', 'Median'] })\n",
    "\n",
    "fig, ax = plt.subplots()\n",
    "ax = sns.barplot(x='RMSE', y='LOS Model Type', data=data)\n",
    "ax.set_title('RMSE comparison of Length-of-Stay models')\n",
    "ax.tick_params(top=False, left=False, right=False)\n"
   ]
  },
  {
   "cell_type": "markdown",
   "metadata": {
    "id": "h4Tg3HptBXNf"
   },
   "source": [
    "The final way to look at the model was to plot the proportion of accurate predictions in the test set versus an allowed margin of error. Other studies qualify a LOS prediction as correct if it falls within a certain margin of error. It follows that as the margin of error allowance increases, so should the proportion of accurate predictions for all models. The random forest  prediction model performs better than the other constant models across the margin of error range up to 30%."
   ]
  }
 ],
 "metadata": {
  "colab": {
   "collapsed_sections": [],
   "name": "Predict_Length_of_Stay.ipynb",
   "provenance": []
  },
  "kernelspec": {
   "display_name": "Python 3 (ipykernel)",
   "language": "python",
   "name": "python3"
  },
  "language_info": {
   "codemirror_mode": {
    "name": "ipython",
    "version": 3
   },
   "file_extension": ".py",
   "mimetype": "text/x-python",
   "name": "python",
   "nbconvert_exporter": "python",
   "pygments_lexer": "ipython3",
   "version": "3.8.9"
  }
 },
 "nbformat": 4,
 "nbformat_minor": 1
}
