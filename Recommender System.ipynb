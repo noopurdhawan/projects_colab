{
 "cells": [
  {
   "cell_type": "markdown",
   "metadata": {
    "id": "ckBKG_TRuaWS"
   },
   "source": [
    "# ** Recommender systems**\n",
    "\n",
    "The dataset provided represents product views across our websites over two days.\n",
    "\n",
    "`fullVisitorId` is a distinct user, or cookie.\n",
    "\n",
    "`productId` represents a product a specific user has viewed.\n",
    "\n",
    "In this task we would compute a co-occurrence matrix, build a recommender system leveraging that matrix in some manner, and a method to recommend new products to a set of users provided below."
   ]
  },
  {
   "cell_type": "code",
   "execution_count": null,
   "metadata": {
    "id": "5UG-hjOYud5L"
   },
   "outputs": [],
   "source": [
    "import pandas as pd\n",
    "import numpy as np\n",
    "import matplotlib.pyplot as plt"
   ]
  },
  {
   "cell_type": "markdown",
   "metadata": {
    "id": "GB08D4WTqBOa"
   },
   "source": [
    "## STEP 0:\n",
    "*Import the data*\n",
    "\n",
    "*First, please add the dataset named dataset.csv from the link provided to your own drive.*"
   ]
  },
  {
   "cell_type": "code",
   "execution_count": null,
   "metadata": {
    "colab": {
     "base_uri": "https://localhost:8080/",
     "height": 122
    },
    "executionInfo": {
     "elapsed": 22268,
     "status": "ok",
     "timestamp": 1579583995983,
     "user": {
      "displayName": "NOOPUR DHAWAN",
      "photoUrl": "https://lh3.googleusercontent.com/a-/AAuE7mDlSuxJ8UPvEO0_Ff3J3zhAhOLDb0hvsMKfs1z-=s64",
      "userId": "10327079699888159261"
     },
     "user_tz": -480
    },
    "id": "p19e__zzoLpc",
    "outputId": "78a87f67-faae-4bda-8f45-d5047a1a81f1"
   },
   "outputs": [
    {
     "name": "stdout",
     "output_type": "stream",
     "text": [
      "Go to this URL in a browser: https://accounts.google.com/o/oauth2/auth?client_id=947318989803-6bn6qk8qdgf4n4g3pfee6491hc0brc4i.apps.googleusercontent.com&redirect_uri=urn%3aietf%3awg%3aoauth%3a2.0%3aoob&response_type=code&scope=email%20https%3a%2f%2fwww.googleapis.com%2fauth%2fdocs.test%20https%3a%2f%2fwww.googleapis.com%2fauth%2fdrive%20https%3a%2f%2fwww.googleapis.com%2fauth%2fdrive.photos.readonly%20https%3a%2f%2fwww.googleapis.com%2fauth%2fpeopleapi.readonly\n",
      "\n",
      "Enter your authorization code:\n",
      "··········\n",
      "Mounted at /gdrive\n"
     ]
    }
   ],
   "source": [
    "import pandas as pd\n",
    "import csv\n",
    "from google.colab import drive\n",
    "drive.mount('/gdrive')"
   ]
  },
  {
   "cell_type": "code",
   "execution_count": null,
   "metadata": {
    "id": "yDdLejiNoTFi"
   },
   "outputs": [],
   "source": [
    "with open('/gdrive/My Drive/dataset.csv') as f:\n",
    "  data = pd.read_csv(f)"
   ]
  },
  {
   "cell_type": "code",
   "execution_count": null,
   "metadata": {
    "colab": {
     "base_uri": "https://localhost:8080/",
     "height": 111
    },
    "executionInfo": {
     "elapsed": 1125,
     "status": "ok",
     "timestamp": 1579584011218,
     "user": {
      "displayName": "NOOPUR DHAWAN",
      "photoUrl": "https://lh3.googleusercontent.com/a-/AAuE7mDlSuxJ8UPvEO0_Ff3J3zhAhOLDb0hvsMKfs1z-=s64",
      "userId": "10327079699888159261"
     },
     "user_tz": -480
    },
    "id": "jiHuPpdWBkRE",
    "outputId": "fa2ef969-15fe-4c01-d624-cd99d3b4de83"
   },
   "outputs": [
    {
     "data": {
      "text/html": [
       "<div>\n",
       "<style scoped>\n",
       "    .dataframe tbody tr th:only-of-type {\n",
       "        vertical-align: middle;\n",
       "    }\n",
       "\n",
       "    .dataframe tbody tr th {\n",
       "        vertical-align: top;\n",
       "    }\n",
       "\n",
       "    .dataframe thead th {\n",
       "        text-align: right;\n",
       "    }\n",
       "</style>\n",
       "<table border=\"1\" class=\"dataframe\">\n",
       "  <thead>\n",
       "    <tr style=\"text-align: right;\">\n",
       "      <th></th>\n",
       "      <th>fullVisitorId</th>\n",
       "      <th>productId</th>\n",
       "    </tr>\n",
       "  </thead>\n",
       "  <tbody>\n",
       "    <tr>\n",
       "      <th>0</th>\n",
       "      <td>10000210821186390039</td>\n",
       "      <td>19477</td>\n",
       "    </tr>\n",
       "    <tr>\n",
       "      <th>1</th>\n",
       "      <td>10000210821186390039</td>\n",
       "      <td>13755</td>\n",
       "    </tr>\n",
       "  </tbody>\n",
       "</table>\n",
       "</div>"
      ],
      "text/plain": [
       "          fullVisitorId  productId\n",
       "0  10000210821186390039      19477\n",
       "1  10000210821186390039      13755"
      ]
     },
     "execution_count": 4,
     "metadata": {
      "tags": []
     },
     "output_type": "execute_result"
    }
   ],
   "source": [
    "data.head(2)"
   ]
  },
  {
   "cell_type": "code",
   "execution_count": null,
   "metadata": {
    "colab": {
     "base_uri": "https://localhost:8080/",
     "height": 34
    },
    "executionInfo": {
     "elapsed": 1495,
     "status": "ok",
     "timestamp": 1579584011653,
     "user": {
      "displayName": "NOOPUR DHAWAN",
      "photoUrl": "https://lh3.googleusercontent.com/a-/AAuE7mDlSuxJ8UPvEO0_Ff3J3zhAhOLDb0hvsMKfs1z-=s64",
      "userId": "10327079699888159261"
     },
     "user_tz": -480
    },
    "id": "IJ81M7QwvD4I",
    "outputId": "dfb86ece-8442-4a10-bf95-98b4a70f1827"
   },
   "outputs": [
    {
     "data": {
      "text/plain": [
       "510413"
      ]
     },
     "execution_count": 5,
     "metadata": {
      "tags": []
     },
     "output_type": "execute_result"
    }
   ],
   "source": [
    "len(data)"
   ]
  },
  {
   "cell_type": "code",
   "execution_count": null,
   "metadata": {
    "colab": {
     "base_uri": "https://localhost:8080/",
     "height": 136
    },
    "executionInfo": {
     "elapsed": 1473,
     "status": "ok",
     "timestamp": 1579584011654,
     "user": {
      "displayName": "NOOPUR DHAWAN",
      "photoUrl": "https://lh3.googleusercontent.com/a-/AAuE7mDlSuxJ8UPvEO0_Ff3J3zhAhOLDb0hvsMKfs1z-=s64",
      "userId": "10327079699888159261"
     },
     "user_tz": -480
    },
    "id": "j8tGVRlThi5-",
    "outputId": "66651d59-2a49-426c-b2b1-62657a6a97b2"
   },
   "outputs": [
    {
     "name": "stdout",
     "output_type": "stream",
     "text": [
      "<class 'pandas.core.frame.DataFrame'>\n",
      "RangeIndex: 510413 entries, 0 to 510412\n",
      "Data columns (total 2 columns):\n",
      "fullVisitorId    510413 non-null uint64\n",
      "productId        510413 non-null int64\n",
      "dtypes: int64(1), uint64(1)\n",
      "memory usage: 7.8 MB\n"
     ]
    }
   ],
   "source": [
    "data.info()"
   ]
  },
  {
   "cell_type": "markdown",
   "metadata": {
    "id": "GfFf6ThWw18d"
   },
   "source": [
    "## Simple EDA\n"
   ]
  },
  {
   "cell_type": "code",
   "execution_count": null,
   "metadata": {
    "id": "OEIplpAKw5Uz"
   },
   "outputs": [],
   "source": [
    "import seaborn as sns"
   ]
  },
  {
   "cell_type": "code",
   "execution_count": null,
   "metadata": {
    "colab": {
     "base_uri": "https://localhost:8080/",
     "height": 34
    },
    "executionInfo": {
     "elapsed": 1445,
     "status": "ok",
     "timestamp": 1579584011657,
     "user": {
      "displayName": "NOOPUR DHAWAN",
      "photoUrl": "https://lh3.googleusercontent.com/a-/AAuE7mDlSuxJ8UPvEO0_Ff3J3zhAhOLDb0hvsMKfs1z-=s64",
      "userId": "10327079699888159261"
     },
     "user_tz": -480
    },
    "id": "B9mZu4DOgN1D",
    "outputId": "f7781e7a-222b-4ff0-c0da-40f4744f0503"
   },
   "outputs": [
    {
     "name": "stdout",
     "output_type": "stream",
     "text": [
      "Unique Visitors: 87411 and Unique Products: 12888 \n"
     ]
    }
   ],
   "source": [
    "print('Unique Visitors: {} and Unique Products: {} '.format(data.fullVisitorId.nunique(),\n",
    "                                                         data.productId.nunique()))"
   ]
  },
  {
   "cell_type": "code",
   "execution_count": null,
   "metadata": {
    "colab": {
     "base_uri": "https://localhost:8080/",
     "height": 34
    },
    "executionInfo": {
     "elapsed": 1931,
     "status": "ok",
     "timestamp": 1579584012162,
     "user": {
      "displayName": "NOOPUR DHAWAN",
      "photoUrl": "https://lh3.googleusercontent.com/a-/AAuE7mDlSuxJ8UPvEO0_Ff3J3zhAhOLDb0hvsMKfs1z-=s64",
      "userId": "10327079699888159261"
     },
     "user_tz": -480
    },
    "id": "-_akqCI4pd1b",
    "outputId": "1cf42c62-40db-4d1b-9931-f1c8ee09bf7c"
   },
   "outputs": [
    {
     "name": "stdout",
     "output_type": "stream",
     "text": [
      "Mappings with more than 1 product visited by user : 0\n"
     ]
    }
   ],
   "source": [
    "# Check for 1 to 1 mapping with visitor_id to product_id\n",
    "mapping = data.groupby(['fullVisitorId','productId']).size().reset_index().rename(columns = {0:'count'})\n",
    "print ('Mappings with more than 1 product visited by user : {}'.format(mapping[mapping['count'] > 1].shape[0]))"
   ]
  },
  {
   "cell_type": "code",
   "execution_count": null,
   "metadata": {
    "colab": {
     "base_uri": "https://localhost:8080/",
     "height": 353
    },
    "executionInfo": {
     "elapsed": 3075,
     "status": "ok",
     "timestamp": 1579584013326,
     "user": {
      "displayName": "NOOPUR DHAWAN",
      "photoUrl": "https://lh3.googleusercontent.com/a-/AAuE7mDlSuxJ8UPvEO0_Ff3J3zhAhOLDb0hvsMKfs1z-=s64",
      "userId": "10327079699888159261"
     },
     "user_tz": -480
    },
    "id": "0VLhKJgOi358",
    "outputId": "906b07cb-e351-441d-8f51-87cd5204b6c1"
   },
   "outputs": [
    {
     "data": {
      "image/png": "[encoded data removed]",
      "text/plain": [
       "<Figure size 720x360 with 1 Axes>"
      ]
     },
     "metadata": {
      "tags": []
     },
     "output_type": "display_data"
    }
   ],
   "source": [
    "# Top 10 Products \n",
    "product_count  = data['productId'].value_counts()\n",
    "product_count = product_count[:10,]\n",
    "plt.figure(figsize=(10,5))\n",
    "sns.barplot(product_count.index, product_count.values, alpha=0.8)\n",
    "plt.title('Top 10 Products Visited by User ')\n",
    "plt.ylabel('Number of Occurrences', fontsize=12)\n",
    "plt.xlabel('Product', fontsize=12)\n",
    "plt.show()"
   ]
  },
  {
   "cell_type": "code",
   "execution_count": null,
   "metadata": {
    "colab": {
     "base_uri": "https://localhost:8080/",
     "height": 516
    },
    "executionInfo": {
     "elapsed": 3057,
     "status": "ok",
     "timestamp": 1579584013328,
     "user": {
      "displayName": "NOOPUR DHAWAN",
      "photoUrl": "https://lh3.googleusercontent.com/a-/AAuE7mDlSuxJ8UPvEO0_Ff3J3zhAhOLDb0hvsMKfs1z-=s64",
      "userId": "10327079699888159261"
     },
     "user_tz": -480
    },
    "id": "Id4i7d9UkbCs",
    "outputId": "055bd95e-8d7e-4d6b-9948-43c6258d24b5"
   },
   "outputs": [
    {
     "data": {
      "image/png": "[encoded data removed]",
      "text/plain": [
       "<Figure size 720x576 with 1 Axes>"
      ]
     },
     "metadata": {
      "tags": []
     },
     "output_type": "display_data"
    }
   ],
   "source": [
    "# Top 10 users \n",
    "fullVisitorId_count  = data['fullVisitorId'].value_counts()\n",
    "fullVisitorId_count = fullVisitorId_count[:10,]\n",
    "plt.figure(figsize=(10,8))\n",
    "sns.barplot(fullVisitorId_count.index, fullVisitorId_count.values, alpha=0.8)\n",
    "plt.title('Top 10 fullVisitorId  ')\n",
    "plt.ylabel('Number of Occurrences', fontsize=12)\n",
    "plt.xlabel('fullVisitorId', fontsize=12)\n",
    "plt.show()"
   ]
  },
  {
   "cell_type": "markdown",
   "metadata": {
    "id": "BqenrxtEfgFT"
   },
   "source": [
    "## STEP 1:\n",
    "*Compute the **co-occurrence** matrix.*"
   ]
  },
  {
   "cell_type": "code",
   "execution_count": null,
   "metadata": {
    "id": "IfkNyAKfqSz6"
   },
   "outputs": [],
   "source": [
    "#Get the views of the user-product pair\n",
    "data['views'] = data.groupby(['fullVisitorId','productId'])['productId'].transform('count')"
   ]
  },
  {
   "cell_type": "markdown",
   "metadata": {
    "id": "gXZHHP62kZWz"
   },
   "source": [
    "Co-occurence matrix have specific entities in rows and entities in columns .\n",
    "Number of times each entities in rows appears in same context as each entities in columns."
   ]
  },
  {
   "cell_type": "code",
   "execution_count": null,
   "metadata": {
    "colab": {
     "base_uri": "https://localhost:8080/",
     "height": 34
    },
    "executionInfo": {
     "elapsed": 39035,
     "status": "ok",
     "timestamp": 1579584049340,
     "user": {
      "displayName": "NOOPUR DHAWAN",
      "photoUrl": "https://lh3.googleusercontent.com/a-/AAuE7mDlSuxJ8UPvEO0_Ff3J3zhAhOLDb0hvsMKfs1z-=s64",
      "userId": "10327079699888159261"
     },
     "user_tz": -480
    },
    "id": "mASQM4qDMVkf",
    "outputId": "1fdc1822-847b-45eb-b0b1-00e4179fd17a"
   },
   "outputs": [
    {
     "name": "stdout",
     "output_type": "stream",
     "text": [
      "(87411, 12888)\n"
     ]
    }
   ],
   "source": [
    "#Co-occurrence matrix for users and products which are viewed as 1 else 0\n",
    "users_items_pivot_matrix_df = data.pivot(\n",
    "    columns='productId',\n",
    "    index='fullVisitorId',\n",
    "    values='views'\n",
    ").fillna(0)\n",
    "\n",
    "print (users_items_pivot_matrix_df.shape)"
   ]
  },
  {
   "cell_type": "code",
   "execution_count": null,
   "metadata": {
    "colab": {
     "base_uri": "https://localhost:8080/",
     "height": 222
    },
    "executionInfo": {
     "elapsed": 38998,
     "status": "ok",
     "timestamp": 1579584049342,
     "user": {
      "displayName": "NOOPUR DHAWAN",
      "photoUrl": "https://lh3.googleusercontent.com/a-/AAuE7mDlSuxJ8UPvEO0_Ff3J3zhAhOLDb0hvsMKfs1z-=s64",
      "userId": "10327079699888159261"
     },
     "user_tz": -480
    },
    "id": "SA0-NNEILM7y",
    "outputId": "44dd2535-f108-406d-e1c9-e379e84f2af8"
   },
   "outputs": [
    {
     "data": {
      "text/html": [
       "<div>\n",
       "<style scoped>\n",
       "    .dataframe tbody tr th:only-of-type {\n",
       "        vertical-align: middle;\n",
       "    }\n",
       "\n",
       "    .dataframe tbody tr th {\n",
       "        vertical-align: top;\n",
       "    }\n",
       "\n",
       "    .dataframe thead th {\n",
       "        text-align: right;\n",
       "    }\n",
       "</style>\n",
       "<table border=\"1\" class=\"dataframe\">\n",
       "  <thead>\n",
       "    <tr style=\"text-align: right;\">\n",
       "      <th>productId</th>\n",
       "      <th>2</th>\n",
       "      <th>7</th>\n",
       "      <th>10</th>\n",
       "      <th>11</th>\n",
       "      <th>13</th>\n",
       "      <th>14</th>\n",
       "      <th>15</th>\n",
       "      <th>16</th>\n",
       "      <th>18</th>\n",
       "      <th>19</th>\n",
       "      <th>20</th>\n",
       "      <th>21</th>\n",
       "      <th>22</th>\n",
       "      <th>24</th>\n",
       "      <th>27</th>\n",
       "      <th>28</th>\n",
       "      <th>33</th>\n",
       "      <th>37</th>\n",
       "      <th>39</th>\n",
       "      <th>40</th>\n",
       "      <th>41</th>\n",
       "      <th>42</th>\n",
       "      <th>43</th>\n",
       "      <th>44</th>\n",
       "      <th>45</th>\n",
       "      <th>46</th>\n",
       "      <th>47</th>\n",
       "      <th>48</th>\n",
       "      <th>49</th>\n",
       "      <th>50</th>\n",
       "      <th>51</th>\n",
       "      <th>52</th>\n",
       "      <th>53</th>\n",
       "      <th>54</th>\n",
       "      <th>55</th>\n",
       "      <th>56</th>\n",
       "      <th>57</th>\n",
       "      <th>58</th>\n",
       "      <th>59</th>\n",
       "      <th>60</th>\n",
       "      <th>...</th>\n",
       "      <th>22031</th>\n",
       "      <th>22032</th>\n",
       "      <th>22033</th>\n",
       "      <th>22035</th>\n",
       "      <th>22036</th>\n",
       "      <th>22037</th>\n",
       "      <th>22038</th>\n",
       "      <th>22039</th>\n",
       "      <th>22040</th>\n",
       "      <th>22041</th>\n",
       "      <th>22042</th>\n",
       "      <th>22072</th>\n",
       "      <th>22104</th>\n",
       "      <th>22105</th>\n",
       "      <th>22107</th>\n",
       "      <th>22108</th>\n",
       "      <th>22109</th>\n",
       "      <th>22110</th>\n",
       "      <th>22111</th>\n",
       "      <th>22112</th>\n",
       "      <th>22113</th>\n",
       "      <th>22114</th>\n",
       "      <th>22115</th>\n",
       "      <th>22116</th>\n",
       "      <th>22117</th>\n",
       "      <th>22119</th>\n",
       "      <th>22120</th>\n",
       "      <th>22121</th>\n",
       "      <th>22122</th>\n",
       "      <th>22123</th>\n",
       "      <th>22124</th>\n",
       "      <th>22125</th>\n",
       "      <th>22127</th>\n",
       "      <th>22128</th>\n",
       "      <th>22129</th>\n",
       "      <th>22237</th>\n",
       "      <th>22241</th>\n",
       "      <th>22251</th>\n",
       "      <th>22269</th>\n",
       "      <th>22793</th>\n",
       "    </tr>\n",
       "    <tr>\n",
       "      <th>fullVisitorId</th>\n",
       "      <th></th>\n",
       "      <th></th>\n",
       "      <th></th>\n",
       "      <th></th>\n",
       "      <th></th>\n",
       "      <th></th>\n",
       "      <th></th>\n",
       "      <th></th>\n",
       "      <th></th>\n",
       "      <th></th>\n",
       "      <th></th>\n",
       "      <th></th>\n",
       "      <th></th>\n",
       "      <th></th>\n",
       "      <th></th>\n",
       "      <th></th>\n",
       "      <th></th>\n",
       "      <th></th>\n",
       "      <th></th>\n",
       "      <th></th>\n",
       "      <th></th>\n",
       "      <th></th>\n",
       "      <th></th>\n",
       "      <th></th>\n",
       "      <th></th>\n",
       "      <th></th>\n",
       "      <th></th>\n",
       "      <th></th>\n",
       "      <th></th>\n",
       "      <th></th>\n",
       "      <th></th>\n",
       "      <th></th>\n",
       "      <th></th>\n",
       "      <th></th>\n",
       "      <th></th>\n",
       "      <th></th>\n",
       "      <th></th>\n",
       "      <th></th>\n",
       "      <th></th>\n",
       "      <th></th>\n",
       "      <th></th>\n",
       "      <th></th>\n",
       "      <th></th>\n",
       "      <th></th>\n",
       "      <th></th>\n",
       "      <th></th>\n",
       "      <th></th>\n",
       "      <th></th>\n",
       "      <th></th>\n",
       "      <th></th>\n",
       "      <th></th>\n",
       "      <th></th>\n",
       "      <th></th>\n",
       "      <th></th>\n",
       "      <th></th>\n",
       "      <th></th>\n",
       "      <th></th>\n",
       "      <th></th>\n",
       "      <th></th>\n",
       "      <th></th>\n",
       "      <th></th>\n",
       "      <th></th>\n",
       "      <th></th>\n",
       "      <th></th>\n",
       "      <th></th>\n",
       "      <th></th>\n",
       "      <th></th>\n",
       "      <th></th>\n",
       "      <th></th>\n",
       "      <th></th>\n",
       "      <th></th>\n",
       "      <th></th>\n",
       "      <th></th>\n",
       "      <th></th>\n",
       "      <th></th>\n",
       "      <th></th>\n",
       "      <th></th>\n",
       "      <th></th>\n",
       "      <th></th>\n",
       "      <th></th>\n",
       "      <th></th>\n",
       "    </tr>\n",
       "  </thead>\n",
       "  <tbody>\n",
       "    <tr>\n",
       "      <th>14776257780237</th>\n",
       "      <td>0.0</td>\n",
       "      <td>0.0</td>\n",
       "      <td>0.0</td>\n",
       "      <td>0.0</td>\n",
       "      <td>0.0</td>\n",
       "      <td>0.0</td>\n",
       "      <td>0.0</td>\n",
       "      <td>0.0</td>\n",
       "      <td>0.0</td>\n",
       "      <td>0.0</td>\n",
       "      <td>0.0</td>\n",
       "      <td>0.0</td>\n",
       "      <td>0.0</td>\n",
       "      <td>0.0</td>\n",
       "      <td>0.0</td>\n",
       "      <td>0.0</td>\n",
       "      <td>0.0</td>\n",
       "      <td>0.0</td>\n",
       "      <td>0.0</td>\n",
       "      <td>0.0</td>\n",
       "      <td>0.0</td>\n",
       "      <td>0.0</td>\n",
       "      <td>0.0</td>\n",
       "      <td>0.0</td>\n",
       "      <td>0.0</td>\n",
       "      <td>0.0</td>\n",
       "      <td>0.0</td>\n",
       "      <td>0.0</td>\n",
       "      <td>0.0</td>\n",
       "      <td>0.0</td>\n",
       "      <td>0.0</td>\n",
       "      <td>0.0</td>\n",
       "      <td>0.0</td>\n",
       "      <td>0.0</td>\n",
       "      <td>0.0</td>\n",
       "      <td>0.0</td>\n",
       "      <td>0.0</td>\n",
       "      <td>0.0</td>\n",
       "      <td>0.0</td>\n",
       "      <td>0.0</td>\n",
       "      <td>...</td>\n",
       "      <td>0.0</td>\n",
       "      <td>0.0</td>\n",
       "      <td>0.0</td>\n",
       "      <td>0.0</td>\n",
       "      <td>0.0</td>\n",
       "      <td>0.0</td>\n",
       "      <td>0.0</td>\n",
       "      <td>0.0</td>\n",
       "      <td>0.0</td>\n",
       "      <td>0.0</td>\n",
       "      <td>0.0</td>\n",
       "      <td>0.0</td>\n",
       "      <td>0.0</td>\n",
       "      <td>0.0</td>\n",
       "      <td>0.0</td>\n",
       "      <td>0.0</td>\n",
       "      <td>0.0</td>\n",
       "      <td>0.0</td>\n",
       "      <td>0.0</td>\n",
       "      <td>0.0</td>\n",
       "      <td>0.0</td>\n",
       "      <td>0.0</td>\n",
       "      <td>0.0</td>\n",
       "      <td>0.0</td>\n",
       "      <td>0.0</td>\n",
       "      <td>0.0</td>\n",
       "      <td>0.0</td>\n",
       "      <td>0.0</td>\n",
       "      <td>0.0</td>\n",
       "      <td>0.0</td>\n",
       "      <td>0.0</td>\n",
       "      <td>0.0</td>\n",
       "      <td>0.0</td>\n",
       "      <td>0.0</td>\n",
       "      <td>0.0</td>\n",
       "      <td>0.0</td>\n",
       "      <td>0.0</td>\n",
       "      <td>0.0</td>\n",
       "      <td>0.0</td>\n",
       "      <td>0.0</td>\n",
       "    </tr>\n",
       "    <tr>\n",
       "      <th>31065480157626</th>\n",
       "      <td>0.0</td>\n",
       "      <td>0.0</td>\n",
       "      <td>0.0</td>\n",
       "      <td>0.0</td>\n",
       "      <td>0.0</td>\n",
       "      <td>0.0</td>\n",
       "      <td>0.0</td>\n",
       "      <td>0.0</td>\n",
       "      <td>0.0</td>\n",
       "      <td>0.0</td>\n",
       "      <td>0.0</td>\n",
       "      <td>0.0</td>\n",
       "      <td>0.0</td>\n",
       "      <td>0.0</td>\n",
       "      <td>0.0</td>\n",
       "      <td>0.0</td>\n",
       "      <td>0.0</td>\n",
       "      <td>0.0</td>\n",
       "      <td>0.0</td>\n",
       "      <td>0.0</td>\n",
       "      <td>0.0</td>\n",
       "      <td>0.0</td>\n",
       "      <td>0.0</td>\n",
       "      <td>0.0</td>\n",
       "      <td>0.0</td>\n",
       "      <td>0.0</td>\n",
       "      <td>0.0</td>\n",
       "      <td>0.0</td>\n",
       "      <td>0.0</td>\n",
       "      <td>0.0</td>\n",
       "      <td>0.0</td>\n",
       "      <td>0.0</td>\n",
       "      <td>0.0</td>\n",
       "      <td>0.0</td>\n",
       "      <td>0.0</td>\n",
       "      <td>0.0</td>\n",
       "      <td>0.0</td>\n",
       "      <td>0.0</td>\n",
       "      <td>0.0</td>\n",
       "      <td>0.0</td>\n",
       "      <td>...</td>\n",
       "      <td>0.0</td>\n",
       "      <td>0.0</td>\n",
       "      <td>0.0</td>\n",
       "      <td>0.0</td>\n",
       "      <td>0.0</td>\n",
       "      <td>0.0</td>\n",
       "      <td>0.0</td>\n",
       "      <td>0.0</td>\n",
       "      <td>0.0</td>\n",
       "      <td>0.0</td>\n",
       "      <td>0.0</td>\n",
       "      <td>0.0</td>\n",
       "      <td>0.0</td>\n",
       "      <td>0.0</td>\n",
       "      <td>0.0</td>\n",
       "      <td>0.0</td>\n",
       "      <td>0.0</td>\n",
       "      <td>0.0</td>\n",
       "      <td>0.0</td>\n",
       "      <td>0.0</td>\n",
       "      <td>0.0</td>\n",
       "      <td>0.0</td>\n",
       "      <td>0.0</td>\n",
       "      <td>0.0</td>\n",
       "      <td>0.0</td>\n",
       "      <td>0.0</td>\n",
       "      <td>0.0</td>\n",
       "      <td>0.0</td>\n",
       "      <td>0.0</td>\n",
       "      <td>0.0</td>\n",
       "      <td>0.0</td>\n",
       "      <td>0.0</td>\n",
       "      <td>0.0</td>\n",
       "      <td>0.0</td>\n",
       "      <td>0.0</td>\n",
       "      <td>0.0</td>\n",
       "      <td>0.0</td>\n",
       "      <td>0.0</td>\n",
       "      <td>0.0</td>\n",
       "      <td>0.0</td>\n",
       "    </tr>\n",
       "    <tr>\n",
       "      <th>95238177475911</th>\n",
       "      <td>0.0</td>\n",
       "      <td>0.0</td>\n",
       "      <td>0.0</td>\n",
       "      <td>0.0</td>\n",
       "      <td>0.0</td>\n",
       "      <td>0.0</td>\n",
       "      <td>0.0</td>\n",
       "      <td>0.0</td>\n",
       "      <td>0.0</td>\n",
       "      <td>0.0</td>\n",
       "      <td>0.0</td>\n",
       "      <td>0.0</td>\n",
       "      <td>0.0</td>\n",
       "      <td>0.0</td>\n",
       "      <td>0.0</td>\n",
       "      <td>0.0</td>\n",
       "      <td>0.0</td>\n",
       "      <td>0.0</td>\n",
       "      <td>0.0</td>\n",
       "      <td>0.0</td>\n",
       "      <td>0.0</td>\n",
       "      <td>0.0</td>\n",
       "      <td>0.0</td>\n",
       "      <td>0.0</td>\n",
       "      <td>0.0</td>\n",
       "      <td>0.0</td>\n",
       "      <td>0.0</td>\n",
       "      <td>0.0</td>\n",
       "      <td>0.0</td>\n",
       "      <td>0.0</td>\n",
       "      <td>0.0</td>\n",
       "      <td>0.0</td>\n",
       "      <td>0.0</td>\n",
       "      <td>0.0</td>\n",
       "      <td>0.0</td>\n",
       "      <td>0.0</td>\n",
       "      <td>0.0</td>\n",
       "      <td>0.0</td>\n",
       "      <td>0.0</td>\n",
       "      <td>0.0</td>\n",
       "      <td>...</td>\n",
       "      <td>0.0</td>\n",
       "      <td>0.0</td>\n",
       "      <td>0.0</td>\n",
       "      <td>0.0</td>\n",
       "      <td>0.0</td>\n",
       "      <td>0.0</td>\n",
       "      <td>0.0</td>\n",
       "      <td>0.0</td>\n",
       "      <td>0.0</td>\n",
       "      <td>0.0</td>\n",
       "      <td>0.0</td>\n",
       "      <td>0.0</td>\n",
       "      <td>0.0</td>\n",
       "      <td>0.0</td>\n",
       "      <td>0.0</td>\n",
       "      <td>0.0</td>\n",
       "      <td>0.0</td>\n",
       "      <td>0.0</td>\n",
       "      <td>0.0</td>\n",
       "      <td>0.0</td>\n",
       "      <td>0.0</td>\n",
       "      <td>0.0</td>\n",
       "      <td>0.0</td>\n",
       "      <td>0.0</td>\n",
       "      <td>0.0</td>\n",
       "      <td>0.0</td>\n",
       "      <td>0.0</td>\n",
       "      <td>0.0</td>\n",
       "      <td>0.0</td>\n",
       "      <td>0.0</td>\n",
       "      <td>0.0</td>\n",
       "      <td>0.0</td>\n",
       "      <td>0.0</td>\n",
       "      <td>0.0</td>\n",
       "      <td>0.0</td>\n",
       "      <td>0.0</td>\n",
       "      <td>0.0</td>\n",
       "      <td>0.0</td>\n",
       "      <td>0.0</td>\n",
       "      <td>0.0</td>\n",
       "    </tr>\n",
       "  </tbody>\n",
       "</table>\n",
       "<p>3 rows × 12888 columns</p>\n",
       "</div>"
      ],
      "text/plain": [
       "productId       2      7      10     11     ...  22241  22251  22269  22793\n",
       "fullVisitorId                               ...                            \n",
       "14776257780237    0.0    0.0    0.0    0.0  ...    0.0    0.0    0.0    0.0\n",
       "31065480157626    0.0    0.0    0.0    0.0  ...    0.0    0.0    0.0    0.0\n",
       "95238177475911    0.0    0.0    0.0    0.0  ...    0.0    0.0    0.0    0.0\n",
       "\n",
       "[3 rows x 12888 columns]"
      ]
     },
     "execution_count": 14,
     "metadata": {
      "tags": []
     },
     "output_type": "execute_result"
    }
   ],
   "source": [
    "users_items_pivot_matrix_df[:3]\n"
   ]
  },
  {
   "cell_type": "markdown",
   "metadata": {
    "id": "ZS-HFbSf2Rs4"
   },
   "source": [
    "## STEP 2 :\n",
    "**Recommendation system**  using Matrix Factorization "
   ]
  },
  {
   "cell_type": "markdown",
   "metadata": {
    "id": "RQ0T4vlKSYqu"
   },
   "source": [
    "Matrix Factorization: \n",
    "Latent factor models compress user-item matrix into a low-dimensional representation in terms of latent factors. One advantage of using this approach is that instead of having a high dimensional matrix containing abundant number of missing values we will be dealing with a much smaller matrix in lower-dimensional space.\n",
    "A reduced presentation could be utilized for either user-based or item-based neighborhood algorithms that are presented in the previous section. There are several advantages with this paradigm. It handles the sparsity of the original matrix better than memory based ones. Also comparing similarity on the resulting matrix is much more scalable especially in dealing with large sparse datasets.\n",
    "\n",
    "Here we will use popular latent factor model named Singular Value Decomposition (SVD). We will use a SciPy implemenation of SVD.\n",
    "\n",
    "An important decision is the number of factors to factor the user-item matrix. The higher the number of factors, the more precise is the factorization in the original matrix reconstructions. Therefore, if the model is allowed to memorize too much details of the original matrix, it may not generalize well for data it was not trained on. Reducing the number of factors increases the model generalization."
   ]
  },
  {
   "cell_type": "code",
   "execution_count": null,
   "metadata": {
    "id": "6h-CQz2pmDpx"
   },
   "outputs": [],
   "source": [
    "from scipy.sparse import csr_matrix\n",
    "from scipy.sparse.linalg import svds"
   ]
  },
  {
   "cell_type": "code",
   "execution_count": null,
   "metadata": {
    "colab": {
     "base_uri": "https://localhost:8080/",
     "height": 71
    },
    "executionInfo": {
     "elapsed": 38972,
     "status": "ok",
     "timestamp": 1579584049344,
     "user": {
      "displayName": "NOOPUR DHAWAN",
      "photoUrl": "https://lh3.googleusercontent.com/a-/AAuE7mDlSuxJ8UPvEO0_Ff3J3zhAhOLDb0hvsMKfs1z-=s64",
      "userId": "10327079699888159261"
     },
     "user_tz": -480
    },
    "id": "JeczUjT1ReoC",
    "outputId": "44d3e529-124d-4d84-a8a2-89a32e4ca938"
   },
   "outputs": [
    {
     "name": "stderr",
     "output_type": "stream",
     "text": [
      "/usr/local/lib/python3.6/dist-packages/ipykernel_launcher.py:1: FutureWarning: Method .as_matrix will be removed in a future version. Use .values instead.\n",
      "  \"\"\"Entry point for launching an IPython kernel.\n"
     ]
    }
   ],
   "source": [
    "# Get the vaues from pivot user items dataframes\n",
    "users_items_pivot_matrix = users_items_pivot_matrix_df.as_matrix()"
   ]
  },
  {
   "cell_type": "code",
   "execution_count": null,
   "metadata": {
    "colab": {
     "base_uri": "https://localhost:8080/",
     "height": 187
    },
    "executionInfo": {
     "elapsed": 38958,
     "status": "ok",
     "timestamp": 1579584049345,
     "user": {
      "displayName": "NOOPUR DHAWAN",
      "photoUrl": "https://lh3.googleusercontent.com/a-/AAuE7mDlSuxJ8UPvEO0_Ff3J3zhAhOLDb0hvsMKfs1z-=s64",
      "userId": "10327079699888159261"
     },
     "user_tz": -480
    },
    "id": "kSAjt0IiQ_3v",
    "outputId": "3e252df5-c824-400f-d4d1-0ff4cf2d4fa6"
   },
   "outputs": [
    {
     "data": {
      "text/plain": [
       "[14776257780237,\n",
       " 31065480157626,\n",
       " 95238177475911,\n",
       " 177665260713177,\n",
       " 311397934795069,\n",
       " 362488222534304,\n",
       " 425104548140923,\n",
       " 538465917568470,\n",
       " 797491100134050,\n",
       " 932061015551067]"
      ]
     },
     "execution_count": 17,
     "metadata": {
      "tags": []
     },
     "output_type": "execute_result"
    }
   ],
   "source": [
    "# Get the user_id index\n",
    "users_ids = list(users_items_pivot_matrix_df.index)\n",
    "users_ids[:10]"
   ]
  },
  {
   "cell_type": "code",
   "execution_count": null,
   "metadata": {
    "colab": {
     "base_uri": "https://localhost:8080/",
     "height": 51
    },
    "executionInfo": {
     "elapsed": 62150,
     "status": "ok",
     "timestamp": 1579584072557,
     "user": {
      "displayName": "NOOPUR DHAWAN",
      "photoUrl": "https://lh3.googleusercontent.com/a-/AAuE7mDlSuxJ8UPvEO0_Ff3J3zhAhOLDb0hvsMKfs1z-=s64",
      "userId": "10327079699888159261"
     },
     "user_tz": -480
    },
    "id": "bYrfv4vgRBYm",
    "outputId": "33613b82-7d7d-48f6-d05b-9334bd962830"
   },
   "outputs": [
    {
     "data": {
      "text/plain": [
       "<87411x12888 sparse matrix of type '<class 'numpy.float64'>'\n",
       "\twith 510413 stored elements in Compressed Sparse Row format>"
      ]
     },
     "execution_count": 18,
     "metadata": {
      "tags": []
     },
     "output_type": "execute_result"
    }
   ],
   "source": [
    "#Convert the matrix to sparse matrix\n",
    "users_items_pivot_sparse_matrix = csr_matrix(users_items_pivot_matrix)\n",
    "users_items_pivot_sparse_matrix"
   ]
  },
  {
   "cell_type": "code",
   "execution_count": null,
   "metadata": {
    "id": "-aePBGtlsyj9"
   },
   "outputs": [],
   "source": [
    "#The number of factors to factor the user-item matrix.\n",
    "NUMBER_OF_FACTORS_MF = 15\n",
    "\n",
    "#Performs matrix factorization of the original user item matrix\n",
    "U, sigma, Vt = svds(users_items_pivot_sparse_matrix, k = NUMBER_OF_FACTORS_MF)"
   ]
  },
  {
   "cell_type": "code",
   "execution_count": null,
   "metadata": {
    "colab": {
     "base_uri": "https://localhost:8080/",
     "height": 34
    },
    "executionInfo": {
     "elapsed": 62572,
     "status": "ok",
     "timestamp": 1579584072999,
     "user": {
      "displayName": "NOOPUR DHAWAN",
      "photoUrl": "https://lh3.googleusercontent.com/a-/AAuE7mDlSuxJ8UPvEO0_Ff3J3zhAhOLDb0hvsMKfs1z-=s64",
      "userId": "10327079699888159261"
     },
     "user_tz": -480
    },
    "id": "timBmwt5RwEO",
    "outputId": "def2a756-c6b2-4877-a910-a26b629cb6ba"
   },
   "outputs": [
    {
     "data": {
      "text/plain": [
       "(87411, 15)"
      ]
     },
     "execution_count": 20,
     "metadata": {
      "tags": []
     },
     "output_type": "execute_result"
    }
   ],
   "source": [
    "#Unitary matrix having left singular vectors as columns\n",
    "U.shape"
   ]
  },
  {
   "cell_type": "code",
   "execution_count": null,
   "metadata": {
    "colab": {
     "base_uri": "https://localhost:8080/",
     "height": 34
    },
    "executionInfo": {
     "elapsed": 62558,
     "status": "ok",
     "timestamp": 1579584073001,
     "user": {
      "displayName": "NOOPUR DHAWAN",
      "photoUrl": "https://lh3.googleusercontent.com/a-/AAuE7mDlSuxJ8UPvEO0_Ff3J3zhAhOLDb0hvsMKfs1z-=s64",
      "userId": "10327079699888159261"
     },
     "user_tz": -480
    },
    "id": "7QmkALYLRxXr",
    "outputId": "5950d731-38bf-4660-df63-c7fca6027820"
   },
   "outputs": [
    {
     "data": {
      "text/plain": [
       "(15, 12888)"
      ]
     },
     "execution_count": 21,
     "metadata": {
      "tags": []
     },
     "output_type": "execute_result"
    }
   ],
   "source": [
    "#Unitary matrix having right singular vectors as rows. \n",
    "Vt.shape"
   ]
  },
  {
   "cell_type": "code",
   "execution_count": null,
   "metadata": {
    "colab": {
     "base_uri": "https://localhost:8080/",
     "height": 34
    },
    "executionInfo": {
     "elapsed": 62545,
     "status": "ok",
     "timestamp": 1579584073002,
     "user": {
      "displayName": "NOOPUR DHAWAN",
      "photoUrl": "https://lh3.googleusercontent.com/a-/AAuE7mDlSuxJ8UPvEO0_Ff3J3zhAhOLDb0hvsMKfs1z-=s64",
      "userId": "10327079699888159261"
     },
     "user_tz": -480
    },
    "id": "M9QtLtlhR4Fl",
    "outputId": "617175fb-a8e5-42ad-b692-13f3502280a1"
   },
   "outputs": [
    {
     "data": {
      "text/plain": [
       "(15, 15)"
      ]
     },
     "execution_count": 22,
     "metadata": {
      "tags": []
     },
     "output_type": "execute_result"
    }
   ],
   "source": [
    "#The singular values, sorted in non-increasing order\n",
    "sigma = np.diag(sigma)\n",
    "sigma.shape"
   ]
  },
  {
   "cell_type": "markdown",
   "metadata": {
    "id": "8akKSAP_R9rn"
   },
   "source": [
    "After the factorization, we will try to to reconstruct the original matrix by multiplying its factors. The resulting matrix is not sparse any more. It was generated predictions for products the user have not yet interaction, which we will exploit for recommendations."
   ]
  },
  {
   "cell_type": "code",
   "execution_count": null,
   "metadata": {
    "id": "mLx-Z4Kys4q2"
   },
   "outputs": [],
   "source": [
    "all_user_predicted_ratings = np.dot(np.dot(U, sigma), Vt)"
   ]
  },
  {
   "cell_type": "code",
   "execution_count": null,
   "metadata": {
    "id": "OLBfrSQ6Urzx"
   },
   "outputs": [],
   "source": [
    "# Get the predictions for all user products \n",
    "cf_preds_df = pd.DataFrame(all_user_predicted_ratings, \n",
    "                           columns = users_items_pivot_matrix_df.columns, index=users_ids)"
   ]
  },
  {
   "cell_type": "code",
   "execution_count": null,
   "metadata": {
    "colab": {
     "base_uri": "https://localhost:8080/",
     "height": 338
    },
    "executionInfo": {
     "elapsed": 1109,
     "status": "ok",
     "timestamp": 1579584307334,
     "user": {
      "displayName": "NOOPUR DHAWAN",
      "photoUrl": "https://lh3.googleusercontent.com/a-/AAuE7mDlSuxJ8UPvEO0_Ff3J3zhAhOLDb0hvsMKfs1z-=s64",
      "userId": "10327079699888159261"
     },
     "user_tz": -480
    },
    "id": "w7GgyvdKj6ou",
    "outputId": "691124f7-4c6e-4523-a98d-b5879b154a0f"
   },
   "outputs": [
    {
     "data": {
      "text/html": [
       "<div>\n",
       "<style scoped>\n",
       "    .dataframe tbody tr th:only-of-type {\n",
       "        vertical-align: middle;\n",
       "    }\n",
       "\n",
       "    .dataframe tbody tr th {\n",
       "        vertical-align: top;\n",
       "    }\n",
       "\n",
       "    .dataframe thead th {\n",
       "        text-align: right;\n",
       "    }\n",
       "</style>\n",
       "<table border=\"1\" class=\"dataframe\">\n",
       "  <thead>\n",
       "    <tr style=\"text-align: right;\">\n",
       "      <th>productId</th>\n",
       "      <th>2</th>\n",
       "      <th>7</th>\n",
       "      <th>10</th>\n",
       "      <th>11</th>\n",
       "      <th>13</th>\n",
       "      <th>14</th>\n",
       "      <th>15</th>\n",
       "      <th>16</th>\n",
       "      <th>18</th>\n",
       "      <th>19</th>\n",
       "      <th>20</th>\n",
       "      <th>21</th>\n",
       "      <th>22</th>\n",
       "      <th>24</th>\n",
       "      <th>27</th>\n",
       "      <th>28</th>\n",
       "      <th>33</th>\n",
       "      <th>37</th>\n",
       "      <th>39</th>\n",
       "      <th>40</th>\n",
       "      <th>41</th>\n",
       "      <th>42</th>\n",
       "      <th>43</th>\n",
       "      <th>44</th>\n",
       "      <th>45</th>\n",
       "      <th>46</th>\n",
       "      <th>47</th>\n",
       "      <th>48</th>\n",
       "      <th>49</th>\n",
       "      <th>50</th>\n",
       "      <th>51</th>\n",
       "      <th>52</th>\n",
       "      <th>53</th>\n",
       "      <th>54</th>\n",
       "      <th>55</th>\n",
       "      <th>56</th>\n",
       "      <th>57</th>\n",
       "      <th>58</th>\n",
       "      <th>59</th>\n",
       "      <th>60</th>\n",
       "      <th>...</th>\n",
       "      <th>22031</th>\n",
       "      <th>22032</th>\n",
       "      <th>22033</th>\n",
       "      <th>22035</th>\n",
       "      <th>22036</th>\n",
       "      <th>22037</th>\n",
       "      <th>22038</th>\n",
       "      <th>22039</th>\n",
       "      <th>22040</th>\n",
       "      <th>22041</th>\n",
       "      <th>22042</th>\n",
       "      <th>22072</th>\n",
       "      <th>22104</th>\n",
       "      <th>22105</th>\n",
       "      <th>22107</th>\n",
       "      <th>22108</th>\n",
       "      <th>22109</th>\n",
       "      <th>22110</th>\n",
       "      <th>22111</th>\n",
       "      <th>22112</th>\n",
       "      <th>22113</th>\n",
       "      <th>22114</th>\n",
       "      <th>22115</th>\n",
       "      <th>22116</th>\n",
       "      <th>22117</th>\n",
       "      <th>22119</th>\n",
       "      <th>22120</th>\n",
       "      <th>22121</th>\n",
       "      <th>22122</th>\n",
       "      <th>22123</th>\n",
       "      <th>22124</th>\n",
       "      <th>22125</th>\n",
       "      <th>22127</th>\n",
       "      <th>22128</th>\n",
       "      <th>22129</th>\n",
       "      <th>22237</th>\n",
       "      <th>22241</th>\n",
       "      <th>22251</th>\n",
       "      <th>22269</th>\n",
       "      <th>22793</th>\n",
       "    </tr>\n",
       "  </thead>\n",
       "  <tbody>\n",
       "    <tr>\n",
       "      <th>14776257780237</th>\n",
       "      <td>-2.408083e-05</td>\n",
       "      <td>8.422041e-06</td>\n",
       "      <td>2.194851e-06</td>\n",
       "      <td>1.130629e-06</td>\n",
       "      <td>-1.680490e-09</td>\n",
       "      <td>1.235560e-06</td>\n",
       "      <td>4.181933e-08</td>\n",
       "      <td>7.080583e-08</td>\n",
       "      <td>1.394550e-06</td>\n",
       "      <td>2.703122e-08</td>\n",
       "      <td>1.360884e-07</td>\n",
       "      <td>2.827942e-07</td>\n",
       "      <td>2.703122e-08</td>\n",
       "      <td>6.899581e-08</td>\n",
       "      <td>3.134178e-07</td>\n",
       "      <td>-1.680490e-09</td>\n",
       "      <td>-9.949266e-06</td>\n",
       "      <td>2.703122e-08</td>\n",
       "      <td>1.782828e-07</td>\n",
       "      <td>4.179563e-07</td>\n",
       "      <td>2.703122e-08</td>\n",
       "      <td>2.135894e-08</td>\n",
       "      <td>2.757901e-07</td>\n",
       "      <td>9.928050e-07</td>\n",
       "      <td>5.413330e-06</td>\n",
       "      <td>3.022626e-06</td>\n",
       "      <td>1.710824e-07</td>\n",
       "      <td>4.032417e-06</td>\n",
       "      <td>5.035608e-06</td>\n",
       "      <td>4.280826e-06</td>\n",
       "      <td>7.917171e-06</td>\n",
       "      <td>1.387969e-05</td>\n",
       "      <td>2.656295e-06</td>\n",
       "      <td>2.856271e-06</td>\n",
       "      <td>9.010406e-06</td>\n",
       "      <td>3.947740e-06</td>\n",
       "      <td>1.724721e-05</td>\n",
       "      <td>4.488953e-06</td>\n",
       "      <td>5.062242e-06</td>\n",
       "      <td>4.638111e-07</td>\n",
       "      <td>...</td>\n",
       "      <td>-0.000409</td>\n",
       "      <td>-1.626642e-04</td>\n",
       "      <td>-0.000449</td>\n",
       "      <td>-6.464089e-04</td>\n",
       "      <td>0.001040</td>\n",
       "      <td>-0.000770</td>\n",
       "      <td>-0.005012</td>\n",
       "      <td>-0.000444</td>\n",
       "      <td>-0.000405</td>\n",
       "      <td>-0.000145</td>\n",
       "      <td>-0.000329</td>\n",
       "      <td>0.000884</td>\n",
       "      <td>-0.009658</td>\n",
       "      <td>-0.002391</td>\n",
       "      <td>-0.000581</td>\n",
       "      <td>-0.000391</td>\n",
       "      <td>-0.000107</td>\n",
       "      <td>0.000077</td>\n",
       "      <td>0.000008</td>\n",
       "      <td>0.000937</td>\n",
       "      <td>0.002387</td>\n",
       "      <td>7.941014e-06</td>\n",
       "      <td>0.001027</td>\n",
       "      <td>0.000482</td>\n",
       "      <td>0.002771</td>\n",
       "      <td>0.009562</td>\n",
       "      <td>0.010790</td>\n",
       "      <td>0.004977</td>\n",
       "      <td>0.007773</td>\n",
       "      <td>0.020178</td>\n",
       "      <td>0.009933</td>\n",
       "      <td>0.010051</td>\n",
       "      <td>0.006818</td>\n",
       "      <td>0.001235</td>\n",
       "      <td>0.002790</td>\n",
       "      <td>4.463396e-05</td>\n",
       "      <td>4.604150e-05</td>\n",
       "      <td>-6.744842e-06</td>\n",
       "      <td>4.013011e-07</td>\n",
       "      <td>-1.005210e-06</td>\n",
       "    </tr>\n",
       "    <tr>\n",
       "      <th>31065480157626</th>\n",
       "      <td>3.162999e-06</td>\n",
       "      <td>1.572601e-07</td>\n",
       "      <td>2.606396e-08</td>\n",
       "      <td>1.977985e-08</td>\n",
       "      <td>3.139384e-10</td>\n",
       "      <td>2.838000e-08</td>\n",
       "      <td>3.979778e-10</td>\n",
       "      <td>5.624702e-10</td>\n",
       "      <td>1.438722e-08</td>\n",
       "      <td>2.959497e-10</td>\n",
       "      <td>6.141880e-07</td>\n",
       "      <td>2.693408e-09</td>\n",
       "      <td>2.959497e-10</td>\n",
       "      <td>1.063275e-09</td>\n",
       "      <td>2.367398e-09</td>\n",
       "      <td>3.139384e-10</td>\n",
       "      <td>1.900593e-06</td>\n",
       "      <td>2.959497e-10</td>\n",
       "      <td>2.313748e-09</td>\n",
       "      <td>1.154556e-08</td>\n",
       "      <td>2.959497e-10</td>\n",
       "      <td>3.011178e-10</td>\n",
       "      <td>9.071041e-09</td>\n",
       "      <td>1.852268e-08</td>\n",
       "      <td>1.291028e-07</td>\n",
       "      <td>4.584048e-08</td>\n",
       "      <td>1.966816e-09</td>\n",
       "      <td>6.298723e-08</td>\n",
       "      <td>8.310406e-08</td>\n",
       "      <td>8.986052e-08</td>\n",
       "      <td>1.411689e-07</td>\n",
       "      <td>1.260222e-07</td>\n",
       "      <td>5.662970e-08</td>\n",
       "      <td>4.729727e-08</td>\n",
       "      <td>1.851424e-07</td>\n",
       "      <td>6.490435e-08</td>\n",
       "      <td>2.805600e-07</td>\n",
       "      <td>7.739261e-08</td>\n",
       "      <td>7.341234e-08</td>\n",
       "      <td>9.969074e-09</td>\n",
       "      <td>...</td>\n",
       "      <td>-0.000011</td>\n",
       "      <td>-6.197062e-06</td>\n",
       "      <td>-0.000016</td>\n",
       "      <td>-2.188134e-05</td>\n",
       "      <td>0.000039</td>\n",
       "      <td>-0.000044</td>\n",
       "      <td>-0.000206</td>\n",
       "      <td>-0.000081</td>\n",
       "      <td>-0.000267</td>\n",
       "      <td>-0.000014</td>\n",
       "      <td>-0.000020</td>\n",
       "      <td>0.000036</td>\n",
       "      <td>-0.000865</td>\n",
       "      <td>-0.000516</td>\n",
       "      <td>-0.000014</td>\n",
       "      <td>-0.000023</td>\n",
       "      <td>-0.000008</td>\n",
       "      <td>0.000008</td>\n",
       "      <td>0.000001</td>\n",
       "      <td>0.000060</td>\n",
       "      <td>0.000072</td>\n",
       "      <td>2.754667e-07</td>\n",
       "      <td>0.000101</td>\n",
       "      <td>0.000018</td>\n",
       "      <td>0.000103</td>\n",
       "      <td>0.000362</td>\n",
       "      <td>0.000286</td>\n",
       "      <td>0.000208</td>\n",
       "      <td>0.000315</td>\n",
       "      <td>0.000751</td>\n",
       "      <td>0.000327</td>\n",
       "      <td>0.000474</td>\n",
       "      <td>0.000268</td>\n",
       "      <td>0.000035</td>\n",
       "      <td>0.000085</td>\n",
       "      <td>1.940198e-06</td>\n",
       "      <td>1.979378e-06</td>\n",
       "      <td>1.021011e-08</td>\n",
       "      <td>1.271476e-08</td>\n",
       "      <td>3.600467e-07</td>\n",
       "    </tr>\n",
       "    <tr>\n",
       "      <th>95238177475911</th>\n",
       "      <td>-7.046647e-07</td>\n",
       "      <td>8.738770e-07</td>\n",
       "      <td>1.821948e-07</td>\n",
       "      <td>7.485345e-08</td>\n",
       "      <td>-4.789940e-11</td>\n",
       "      <td>1.096259e-07</td>\n",
       "      <td>4.215472e-09</td>\n",
       "      <td>6.488635e-09</td>\n",
       "      <td>1.505368e-07</td>\n",
       "      <td>3.196488e-09</td>\n",
       "      <td>-1.737359e-08</td>\n",
       "      <td>3.366125e-08</td>\n",
       "      <td>3.196488e-09</td>\n",
       "      <td>1.486758e-08</td>\n",
       "      <td>3.697627e-08</td>\n",
       "      <td>-4.789940e-11</td>\n",
       "      <td>7.525746e-08</td>\n",
       "      <td>3.196488e-09</td>\n",
       "      <td>2.159913e-08</td>\n",
       "      <td>4.252741e-08</td>\n",
       "      <td>3.196488e-09</td>\n",
       "      <td>1.064082e-09</td>\n",
       "      <td>5.962337e-08</td>\n",
       "      <td>6.122060e-08</td>\n",
       "      <td>4.241552e-07</td>\n",
       "      <td>1.849884e-07</td>\n",
       "      <td>1.321690e-08</td>\n",
       "      <td>2.472831e-07</td>\n",
       "      <td>2.954206e-07</td>\n",
       "      <td>3.321289e-07</td>\n",
       "      <td>7.324984e-07</td>\n",
       "      <td>1.626789e-06</td>\n",
       "      <td>1.941049e-07</td>\n",
       "      <td>2.504740e-07</td>\n",
       "      <td>8.069689e-07</td>\n",
       "      <td>2.310108e-07</td>\n",
       "      <td>1.226848e-06</td>\n",
       "      <td>1.832427e-07</td>\n",
       "      <td>3.765865e-07</td>\n",
       "      <td>7.127826e-08</td>\n",
       "      <td>...</td>\n",
       "      <td>0.000008</td>\n",
       "      <td>1.270642e-08</td>\n",
       "      <td>0.000019</td>\n",
       "      <td>8.500291e-06</td>\n",
       "      <td>0.000032</td>\n",
       "      <td>0.000027</td>\n",
       "      <td>0.000098</td>\n",
       "      <td>0.000062</td>\n",
       "      <td>0.000134</td>\n",
       "      <td>0.000015</td>\n",
       "      <td>0.000015</td>\n",
       "      <td>0.000043</td>\n",
       "      <td>0.000276</td>\n",
       "      <td>0.000701</td>\n",
       "      <td>0.000015</td>\n",
       "      <td>0.000016</td>\n",
       "      <td>0.000003</td>\n",
       "      <td>0.000011</td>\n",
       "      <td>0.000005</td>\n",
       "      <td>0.000077</td>\n",
       "      <td>0.000104</td>\n",
       "      <td>4.790215e-07</td>\n",
       "      <td>0.000118</td>\n",
       "      <td>0.000023</td>\n",
       "      <td>0.000077</td>\n",
       "      <td>0.000304</td>\n",
       "      <td>0.000241</td>\n",
       "      <td>0.000185</td>\n",
       "      <td>0.000224</td>\n",
       "      <td>0.000582</td>\n",
       "      <td>0.000268</td>\n",
       "      <td>0.000344</td>\n",
       "      <td>0.000252</td>\n",
       "      <td>0.000053</td>\n",
       "      <td>0.000102</td>\n",
       "      <td>1.204669e-06</td>\n",
       "      <td>1.293809e-06</td>\n",
       "      <td>4.978280e-07</td>\n",
       "      <td>6.397096e-08</td>\n",
       "      <td>-1.547741e-07</td>\n",
       "    </tr>\n",
       "    <tr>\n",
       "      <th>177665260713177</th>\n",
       "      <td>-2.691678e-04</td>\n",
       "      <td>1.606043e-05</td>\n",
       "      <td>2.166766e-06</td>\n",
       "      <td>1.595376e-06</td>\n",
       "      <td>-1.230829e-08</td>\n",
       "      <td>1.111319e-07</td>\n",
       "      <td>6.503740e-08</td>\n",
       "      <td>9.466157e-08</td>\n",
       "      <td>2.011810e-06</td>\n",
       "      <td>4.768705e-08</td>\n",
       "      <td>3.240908e-07</td>\n",
       "      <td>5.508626e-07</td>\n",
       "      <td>4.768705e-08</td>\n",
       "      <td>6.029761e-07</td>\n",
       "      <td>6.234702e-07</td>\n",
       "      <td>-1.230829e-08</td>\n",
       "      <td>-1.319368e-04</td>\n",
       "      <td>4.768705e-08</td>\n",
       "      <td>3.814419e-07</td>\n",
       "      <td>8.259295e-07</td>\n",
       "      <td>4.768705e-08</td>\n",
       "      <td>2.291546e-08</td>\n",
       "      <td>2.739029e-06</td>\n",
       "      <td>3.328719e-07</td>\n",
       "      <td>5.343272e-06</td>\n",
       "      <td>2.373435e-07</td>\n",
       "      <td>1.147368e-07</td>\n",
       "      <td>5.390437e-07</td>\n",
       "      <td>3.249141e-06</td>\n",
       "      <td>3.872202e-06</td>\n",
       "      <td>1.187780e-05</td>\n",
       "      <td>2.748596e-05</td>\n",
       "      <td>6.213740e-07</td>\n",
       "      <td>2.382602e-06</td>\n",
       "      <td>1.286810e-05</td>\n",
       "      <td>2.218300e-06</td>\n",
       "      <td>1.362357e-05</td>\n",
       "      <td>2.513921e-06</td>\n",
       "      <td>3.262356e-06</td>\n",
       "      <td>1.224614e-06</td>\n",
       "      <td>...</td>\n",
       "      <td>0.002759</td>\n",
       "      <td>9.840895e-04</td>\n",
       "      <td>0.000038</td>\n",
       "      <td>8.185914e-03</td>\n",
       "      <td>0.013917</td>\n",
       "      <td>0.004495</td>\n",
       "      <td>0.044335</td>\n",
       "      <td>0.024300</td>\n",
       "      <td>0.052860</td>\n",
       "      <td>0.001108</td>\n",
       "      <td>0.001994</td>\n",
       "      <td>0.004471</td>\n",
       "      <td>0.095707</td>\n",
       "      <td>1.015160</td>\n",
       "      <td>0.002174</td>\n",
       "      <td>0.005853</td>\n",
       "      <td>0.001815</td>\n",
       "      <td>0.001411</td>\n",
       "      <td>0.000293</td>\n",
       "      <td>0.007232</td>\n",
       "      <td>0.007603</td>\n",
       "      <td>1.153348e-05</td>\n",
       "      <td>0.014791</td>\n",
       "      <td>0.001325</td>\n",
       "      <td>0.008073</td>\n",
       "      <td>0.028777</td>\n",
       "      <td>0.029314</td>\n",
       "      <td>0.019782</td>\n",
       "      <td>0.025520</td>\n",
       "      <td>0.083449</td>\n",
       "      <td>0.028875</td>\n",
       "      <td>0.048979</td>\n",
       "      <td>0.023324</td>\n",
       "      <td>0.006562</td>\n",
       "      <td>0.012322</td>\n",
       "      <td>-3.859705e-06</td>\n",
       "      <td>2.074109e-07</td>\n",
       "      <td>2.100552e-05</td>\n",
       "      <td>3.292478e-07</td>\n",
       "      <td>-4.182475e-05</td>\n",
       "    </tr>\n",
       "    <tr>\n",
       "      <th>311397934795069</th>\n",
       "      <td>-5.642052e-07</td>\n",
       "      <td>8.452829e-07</td>\n",
       "      <td>1.721422e-07</td>\n",
       "      <td>7.477408e-08</td>\n",
       "      <td>-2.260830e-11</td>\n",
       "      <td>1.107367e-07</td>\n",
       "      <td>4.409067e-09</td>\n",
       "      <td>6.900626e-09</td>\n",
       "      <td>1.528637e-07</td>\n",
       "      <td>3.228961e-09</td>\n",
       "      <td>-4.803147e-08</td>\n",
       "      <td>3.306887e-08</td>\n",
       "      <td>3.228961e-09</td>\n",
       "      <td>1.486584e-08</td>\n",
       "      <td>3.636631e-08</td>\n",
       "      <td>-2.260830e-11</td>\n",
       "      <td>7.391791e-10</td>\n",
       "      <td>3.228961e-09</td>\n",
       "      <td>2.085127e-08</td>\n",
       "      <td>4.169654e-08</td>\n",
       "      <td>3.228961e-09</td>\n",
       "      <td>1.385299e-09</td>\n",
       "      <td>6.355260e-08</td>\n",
       "      <td>6.616965e-08</td>\n",
       "      <td>4.428169e-07</td>\n",
       "      <td>1.843337e-07</td>\n",
       "      <td>1.404321e-08</td>\n",
       "      <td>2.478856e-07</td>\n",
       "      <td>3.191865e-07</td>\n",
       "      <td>3.406732e-07</td>\n",
       "      <td>7.289374e-07</td>\n",
       "      <td>1.583820e-06</td>\n",
       "      <td>2.128917e-07</td>\n",
       "      <td>2.421900e-07</td>\n",
       "      <td>7.987506e-07</td>\n",
       "      <td>2.589678e-07</td>\n",
       "      <td>1.264618e-06</td>\n",
       "      <td>2.439132e-07</td>\n",
       "      <td>3.669545e-07</td>\n",
       "      <td>7.533259e-08</td>\n",
       "      <td>...</td>\n",
       "      <td>0.000004</td>\n",
       "      <td>2.355856e-06</td>\n",
       "      <td>0.000029</td>\n",
       "      <td>-2.069596e-07</td>\n",
       "      <td>-0.000001</td>\n",
       "      <td>0.000039</td>\n",
       "      <td>0.000061</td>\n",
       "      <td>0.000030</td>\n",
       "      <td>0.000165</td>\n",
       "      <td>0.000021</td>\n",
       "      <td>0.000017</td>\n",
       "      <td>0.000029</td>\n",
       "      <td>0.000239</td>\n",
       "      <td>-0.000326</td>\n",
       "      <td>0.000020</td>\n",
       "      <td>0.000020</td>\n",
       "      <td>0.000007</td>\n",
       "      <td>0.000009</td>\n",
       "      <td>0.000005</td>\n",
       "      <td>0.000043</td>\n",
       "      <td>0.000042</td>\n",
       "      <td>4.644270e-07</td>\n",
       "      <td>0.000055</td>\n",
       "      <td>0.000017</td>\n",
       "      <td>0.000043</td>\n",
       "      <td>0.000141</td>\n",
       "      <td>0.000121</td>\n",
       "      <td>0.000077</td>\n",
       "      <td>0.000101</td>\n",
       "      <td>0.000265</td>\n",
       "      <td>0.000122</td>\n",
       "      <td>0.000123</td>\n",
       "      <td>0.000141</td>\n",
       "      <td>0.000027</td>\n",
       "      <td>0.000044</td>\n",
       "      <td>5.199376e-07</td>\n",
       "      <td>5.898294e-07</td>\n",
       "      <td>-4.875893e-07</td>\n",
       "      <td>5.137500e-08</td>\n",
       "      <td>-1.802875e-07</td>\n",
       "    </tr>\n",
       "  </tbody>\n",
       "</table>\n",
       "<p>5 rows × 12888 columns</p>\n",
       "</div>"
      ],
      "text/plain": [
       "productId               2             7      ...         22269         22793\n",
       "14776257780237  -2.408083e-05  8.422041e-06  ...  4.013011e-07 -1.005210e-06\n",
       "31065480157626   3.162999e-06  1.572601e-07  ...  1.271476e-08  3.600467e-07\n",
       "95238177475911  -7.046647e-07  8.738770e-07  ...  6.397096e-08 -1.547741e-07\n",
       "177665260713177 -2.691678e-04  1.606043e-05  ...  3.292478e-07 -4.182475e-05\n",
       "311397934795069 -5.642052e-07  8.452829e-07  ...  5.137500e-08 -1.802875e-07\n",
       "\n",
       "[5 rows x 12888 columns]"
      ]
     },
     "execution_count": 32,
     "metadata": {
      "tags": []
     },
     "output_type": "execute_result"
    }
   ],
   "source": [
    "cf_preds_df.head()"
   ]
  },
  {
   "cell_type": "markdown",
   "metadata": {
    "id": "SSwj74gC7-oH"
   },
   "source": [
    "## STEP 3 : \n",
    "\n",
    "*Based on your chosen strategy, recommend **3 new products** for each of the following fullVisitorIds:*\n",
    "- 10000210821186390039 \n",
    "- 10000600839717498451\n",
    "- 10001812885471967449\n",
    " "
   ]
  },
  {
   "cell_type": "code",
   "execution_count": null,
   "metadata": {
    "id": "RtXLXzmTVwwC"
   },
   "outputs": [],
   "source": [
    "# Get the predicitions for user_id mentioned above\n",
    "test_df = cf_preds_df[cf_preds_df.index.isin([10000210821186390039,10000600839717498451,10001812885471967449])]\n",
    "test_df = test_df.unstack().reset_index().rename(columns = {'level_1':'fullVisitorId',0:'rank_prob'})"
   ]
  },
  {
   "cell_type": "code",
   "execution_count": null,
   "metadata": {
    "colab": {
     "base_uri": "https://localhost:8080/",
     "height": 328
    },
    "executionInfo": {
     "elapsed": 1057,
     "status": "ok",
     "timestamp": 1579584374088,
     "user": {
      "displayName": "NOOPUR DHAWAN",
      "photoUrl": "https://lh3.googleusercontent.com/a-/AAuE7mDlSuxJ8UPvEO0_Ff3J3zhAhOLDb0hvsMKfs1z-=s64",
      "userId": "10327079699888159261"
     },
     "user_tz": -480
    },
    "id": "ct0XJtZ3g02V",
    "outputId": "05795e4d-c48c-4621-9c92-9ddd1b1cd364"
   },
   "outputs": [
    {
     "data": {
      "text/html": [
       "<div>\n",
       "<style scoped>\n",
       "    .dataframe tbody tr th:only-of-type {\n",
       "        vertical-align: middle;\n",
       "    }\n",
       "\n",
       "    .dataframe tbody tr th {\n",
       "        vertical-align: top;\n",
       "    }\n",
       "\n",
       "    .dataframe thead th {\n",
       "        text-align: right;\n",
       "    }\n",
       "</style>\n",
       "<table border=\"1\" class=\"dataframe\">\n",
       "  <thead>\n",
       "    <tr style=\"text-align: right;\">\n",
       "      <th></th>\n",
       "      <th>productId</th>\n",
       "      <th>fullVisitorId</th>\n",
       "      <th>rank_prob</th>\n",
       "    </tr>\n",
       "  </thead>\n",
       "  <tbody>\n",
       "    <tr>\n",
       "      <th>0</th>\n",
       "      <td>10759</td>\n",
       "      <td>10000210821186390039</td>\n",
       "      <td>0.018183</td>\n",
       "    </tr>\n",
       "    <tr>\n",
       "      <th>1</th>\n",
       "      <td>20038</td>\n",
       "      <td>10000210821186390039</td>\n",
       "      <td>0.014327</td>\n",
       "    </tr>\n",
       "    <tr>\n",
       "      <th>2</th>\n",
       "      <td>94</td>\n",
       "      <td>10000210821186390039</td>\n",
       "      <td>0.012456</td>\n",
       "    </tr>\n",
       "    <tr>\n",
       "      <th>12888</th>\n",
       "      <td>15103</td>\n",
       "      <td>10000600839717498451</td>\n",
       "      <td>0.086144</td>\n",
       "    </tr>\n",
       "    <tr>\n",
       "      <th>12889</th>\n",
       "      <td>15102</td>\n",
       "      <td>10000600839717498451</td>\n",
       "      <td>0.074398</td>\n",
       "    </tr>\n",
       "    <tr>\n",
       "      <th>12890</th>\n",
       "      <td>15150</td>\n",
       "      <td>10000600839717498451</td>\n",
       "      <td>0.055184</td>\n",
       "    </tr>\n",
       "    <tr>\n",
       "      <th>25776</th>\n",
       "      <td>14096</td>\n",
       "      <td>10001812885471967449</td>\n",
       "      <td>0.020240</td>\n",
       "    </tr>\n",
       "    <tr>\n",
       "      <th>25777</th>\n",
       "      <td>20038</td>\n",
       "      <td>10001812885471967449</td>\n",
       "      <td>0.018604</td>\n",
       "    </tr>\n",
       "    <tr>\n",
       "      <th>25778</th>\n",
       "      <td>10759</td>\n",
       "      <td>10001812885471967449</td>\n",
       "      <td>0.017500</td>\n",
       "    </tr>\n",
       "  </tbody>\n",
       "</table>\n",
       "</div>"
      ],
      "text/plain": [
       "       productId         fullVisitorId  rank_prob\n",
       "0          10759  10000210821186390039   0.018183\n",
       "1          20038  10000210821186390039   0.014327\n",
       "2             94  10000210821186390039   0.012456\n",
       "12888      15103  10000600839717498451   0.086144\n",
       "12889      15102  10000600839717498451   0.074398\n",
       "12890      15150  10000600839717498451   0.055184\n",
       "25776      14096  10001812885471967449   0.020240\n",
       "25777      20038  10001812885471967449   0.018604\n",
       "25778      10759  10001812885471967449   0.017500"
      ]
     },
     "execution_count": 39,
     "metadata": {
      "tags": []
     },
     "output_type": "execute_result"
    }
   ],
   "source": [
    "#Get the top 3 new products recommendations\n",
    "test_df_top3 = test_df.groupby(['fullVisitorId']).apply(lambda x: x.sort_values([\"rank_prob\"],\n",
    "                                                          ascending = False)).reset_index(drop=True)\n",
    "test_df_top3.groupby(['fullVisitorId']).head(3)                                                    "
   ]
  }
 ],
 "metadata": {
  "colab": {
   "collapsed_sections": [],
   "machine_shape": "hm",
   "name": "Recommender System.ipynb",
   "provenance": [
    {
     "file_id": "1zC86u-3gOMinQsYf7DoKKeeH6p3u3Ut1",
     "timestamp": 1579584460682
    },
    {
     "file_id": "1mDgv9NSBldYqSuXEY5qaW1R2dQkfaTDe",
     "timestamp": 1579491093636
    }
   ]
  },
  "kernelspec": {
   "display_name": "Python 3 (ipykernel)",
   "language": "python",
   "name": "python3"
  },
  "language_info": {
   "codemirror_mode": {
    "name": "ipython",
    "version": 3
   },
   "file_extension": ".py",
   "mimetype": "text/x-python",
   "name": "python",
   "nbconvert_exporter": "python",
   "pygments_lexer": "ipython3",
   "version": "3.8.9"
  }
 },
 "nbformat": 4,
 "nbformat_minor": 1
}
